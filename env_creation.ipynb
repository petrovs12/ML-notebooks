{
 "cells": [
  {
   "cell_type": "code",
   "execution_count": null,
   "metadata": {},
   "outputs": [
    {
     "ename": "SyntaxError",
     "evalue": "invalid syntax (1128792806.py, line 3)",
     "output_type": "error",
     "traceback": [
      "\u001b[0;36m  Cell \u001b[0;32mIn[2], line 3\u001b[0;36m\u001b[0m\n\u001b[0;31m    conda create --name ml-tutorials python=3.12 -y\u001b[0m\n\u001b[0m          ^\u001b[0m\n\u001b[0;31mSyntaxError\u001b[0m\u001b[0;31m:\u001b[0m invalid syntax\n"
     ]
    }
   ],
   "source": [
    "%%bash\n",
    "# Create a new conda environment named ml-tutorials\n",
    "conda create --name ml-tutorials python=3.12 -y\n",
    "\n"
   ]
  },
  {
   "cell_type": "code",
   "execution_count": 7,
   "metadata": {},
   "outputs": [
    {
     "name": "stdout",
     "output_type": "stream",
     "text": [
      "no change     /opt/homebrew/anaconda3/condabin/conda\n",
      "no change     /opt/homebrew/anaconda3/bin/conda\n",
      "no change     /opt/homebrew/anaconda3/bin/conda-env\n",
      "no change     /opt/homebrew/anaconda3/bin/activate\n",
      "no change     /opt/homebrew/anaconda3/bin/deactivate\n",
      "no change     /opt/homebrew/anaconda3/etc/profile.d/conda.sh\n",
      "no change     /opt/homebrew/anaconda3/etc/fish/conf.d/conda.fish\n",
      "no change     /opt/homebrew/anaconda3/shell/condabin/Conda.psm1\n",
      "no change     /opt/homebrew/anaconda3/shell/condabin/conda-hook.ps1\n",
      "no change     /opt/homebrew/anaconda3/lib/python3.12/site-packages/xontrib/conda.xsh\n",
      "no change     /opt/homebrew/anaconda3/etc/profile.d/conda.csh\n",
      "no change     /Users/stefanpetrov/.bash_profile\n",
      "No action taken.\n"
     ]
    },
    {
     "name": "stderr",
     "output_type": "stream",
     "text": [
      "\n",
      "CondaError: Run 'conda init' before 'conda activate'\n",
      "\n"
     ]
    },
    {
     "name": "stdout",
     "output_type": "stream",
     "text": [
      "Channels:\n",
      " - defaults\n",
      "Platform: osx-arm64\n",
      "Collecting package metadata (repodata.json): ...working... done\n",
      "Solving environment: ...working... done\n",
      "\n",
      "## Package Plan ##\n",
      "\n",
      "  environment location: /opt/homebrew/anaconda3\n",
      "\n",
      "  added / updated specs:\n",
      "    - matplotlib\n",
      "    - numpy\n",
      "    - pandas\n",
      "    - pytorch\n",
      "    - seaborn\n",
      "    - sympy\n",
      "\n",
      "\n",
      "The following packages will be downloaded:\n",
      "\n",
      "    package                    |            build\n",
      "    ---------------------------|-----------------\n",
      "    conda-24.11.1              |  py312hca03da5_0         1.2 MB\n",
      "    matplotlib-3.9.2           |  py312hca03da5_1           8 KB\n",
      "    pandas-2.2.3               |  py312hcf29cfe_0        14.6 MB\n",
      "    pytorch-2.3.1              |gpu_mps_py312h7b7e308_100        54.0 MB\n",
      "    sleef-3.5.1                |       h80987f9_2         357 KB\n",
      "    ------------------------------------------------------------\n",
      "                                           Total:        70.1 MB\n",
      "\n",
      "The following NEW packages will be INSTALLED:\n",
      "\n",
      "  pytorch            pkgs/main/osx-arm64::pytorch-2.3.1-gpu_mps_py312h7b7e308_100 \n",
      "  sleef              pkgs/main/osx-arm64::sleef-3.5.1-h80987f9_2 \n",
      "\n",
      "The following packages will be UPDATED:\n",
      "\n",
      "  ca-certificates                      2024.9.24-hca03da5_0 --> 2024.11.26-hca03da5_0 \n",
      "  conda                              24.9.2-py312hca03da5_0 --> 24.11.1-py312hca03da5_0 \n",
      "  matplotlib                          3.9.2-py312hca03da5_0 --> 3.9.2-py312hca03da5_1 \n",
      "  pandas                              2.2.2-py312hd77ebd4_0 --> 2.2.3-py312hcf29cfe_0 \n",
      "\n",
      "\n",
      "\n",
      "Downloading and Extracting Packages: ...working... done\n",
      "Preparing transaction: ...working... done\n",
      "Verifying transaction: ...working... done\n",
      "Executing transaction: ...working... done\n"
     ]
    }
   ],
   "source": [
    "%%bash\n",
    "conda init\n",
    "conda activate ml-tutorials\n",
    "conda install pandas numpy pytorch sympy matplotlib  seaborn -y"
   ]
  },
  {
   "cell_type": "code",
   "execution_count": 1,
   "metadata": {},
   "outputs": [],
   "source": [
    "%%bash\n",
    "conda env export > environment.yml"
   ]
  },
  {
   "cell_type": "code",
   "execution_count": null,
   "metadata": {},
   "outputs": [],
   "source": []
  }
 ],
 "metadata": {
  "kernelspec": {
   "display_name": "base",
   "language": "python",
   "name": "python3"
  },
  "language_info": {
   "codemirror_mode": {
    "name": "ipython",
    "version": 3
   },
   "file_extension": ".py",
   "mimetype": "text/x-python",
   "name": "python",
   "nbconvert_exporter": "python",
   "pygments_lexer": "ipython3",
   "version": "3.12.7"
  }
 },
 "nbformat": 4,
 "nbformat_minor": 2
}
