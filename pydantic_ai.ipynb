{
 "cells": [
  {
   "cell_type": "code",
   "execution_count": 1,
   "metadata": {},
   "outputs": [
    {
     "name": "stdout",
     "output_type": "stream",
     "text": [
      "Requirement already satisfied: pydantic-ai in /opt/homebrew/anaconda3/envs/ml-tutorials/lib/python3.12/site-packages (0.0.14)\n",
      "Requirement already satisfied: pydantic-ai-slim==0.0.14 in /opt/homebrew/anaconda3/envs/ml-tutorials/lib/python3.12/site-packages (from pydantic-ai-slim[anthropic,groq,mistral,openai,vertexai]==0.0.14->pydantic-ai) (0.0.14)\n",
      "Requirement already satisfied: eval-type-backport>=0.2.0 in /opt/homebrew/anaconda3/envs/ml-tutorials/lib/python3.12/site-packages (from pydantic-ai-slim==0.0.14->pydantic-ai-slim[anthropic,groq,mistral,openai,vertexai]==0.0.14->pydantic-ai) (0.2.0)\n",
      "Requirement already satisfied: griffe>=1.3.2 in /opt/homebrew/anaconda3/envs/ml-tutorials/lib/python3.12/site-packages (from pydantic-ai-slim==0.0.14->pydantic-ai-slim[anthropic,groq,mistral,openai,vertexai]==0.0.14->pydantic-ai) (1.5.1)\n",
      "Requirement already satisfied: httpx>=0.27.2 in /opt/homebrew/anaconda3/envs/ml-tutorials/lib/python3.12/site-packages (from pydantic-ai-slim==0.0.14->pydantic-ai-slim[anthropic,groq,mistral,openai,vertexai]==0.0.14->pydantic-ai) (0.27.2)\n",
      "Requirement already satisfied: logfire-api>=1.2.0 in /opt/homebrew/anaconda3/envs/ml-tutorials/lib/python3.12/site-packages (from pydantic-ai-slim==0.0.14->pydantic-ai-slim[anthropic,groq,mistral,openai,vertexai]==0.0.14->pydantic-ai) (2.8.0)\n",
      "Requirement already satisfied: pydantic>=2.10 in /opt/homebrew/anaconda3/envs/ml-tutorials/lib/python3.12/site-packages (from pydantic-ai-slim==0.0.14->pydantic-ai-slim[anthropic,groq,mistral,openai,vertexai]==0.0.14->pydantic-ai) (2.10.4)\n",
      "Requirement already satisfied: anthropic>=0.40.0 in /opt/homebrew/anaconda3/envs/ml-tutorials/lib/python3.12/site-packages (from pydantic-ai-slim[anthropic,groq,mistral,openai,vertexai]==0.0.14->pydantic-ai) (0.42.0)\n",
      "Requirement already satisfied: groq>=0.12.0 in /opt/homebrew/anaconda3/envs/ml-tutorials/lib/python3.12/site-packages (from pydantic-ai-slim[anthropic,groq,mistral,openai,vertexai]==0.0.14->pydantic-ai) (0.13.1)\n",
      "Requirement already satisfied: json-repair>=0.30.3 in /opt/homebrew/anaconda3/envs/ml-tutorials/lib/python3.12/site-packages (from pydantic-ai-slim[anthropic,groq,mistral,openai,vertexai]==0.0.14->pydantic-ai) (0.32.0)\n",
      "Requirement already satisfied: mistralai>=1.2.5 in /opt/homebrew/anaconda3/envs/ml-tutorials/lib/python3.12/site-packages (from pydantic-ai-slim[anthropic,groq,mistral,openai,vertexai]==0.0.14->pydantic-ai) (1.2.5)\n",
      "Requirement already satisfied: openai>=1.54.3 in /opt/homebrew/anaconda3/envs/ml-tutorials/lib/python3.12/site-packages (from pydantic-ai-slim[anthropic,groq,mistral,openai,vertexai]==0.0.14->pydantic-ai) (1.58.1)\n",
      "Requirement already satisfied: google-auth>=2.36.0 in /opt/homebrew/anaconda3/envs/ml-tutorials/lib/python3.12/site-packages (from pydantic-ai-slim[anthropic,groq,mistral,openai,vertexai]==0.0.14->pydantic-ai) (2.37.0)\n",
      "Requirement already satisfied: requests>=2.32.3 in /opt/homebrew/anaconda3/envs/ml-tutorials/lib/python3.12/site-packages (from pydantic-ai-slim[anthropic,groq,mistral,openai,vertexai]==0.0.14->pydantic-ai) (2.32.3)\n",
      "Requirement already satisfied: anyio<5,>=3.5.0 in /opt/homebrew/anaconda3/envs/ml-tutorials/lib/python3.12/site-packages (from anthropic>=0.40.0->pydantic-ai-slim[anthropic,groq,mistral,openai,vertexai]==0.0.14->pydantic-ai) (4.7.0)\n",
      "Requirement already satisfied: distro<2,>=1.7.0 in /opt/homebrew/anaconda3/envs/ml-tutorials/lib/python3.12/site-packages (from anthropic>=0.40.0->pydantic-ai-slim[anthropic,groq,mistral,openai,vertexai]==0.0.14->pydantic-ai) (1.9.0)\n",
      "Requirement already satisfied: jiter<1,>=0.4.0 in /opt/homebrew/anaconda3/envs/ml-tutorials/lib/python3.12/site-packages (from anthropic>=0.40.0->pydantic-ai-slim[anthropic,groq,mistral,openai,vertexai]==0.0.14->pydantic-ai) (0.8.2)\n",
      "Requirement already satisfied: sniffio in /opt/homebrew/anaconda3/envs/ml-tutorials/lib/python3.12/site-packages (from anthropic>=0.40.0->pydantic-ai-slim[anthropic,groq,mistral,openai,vertexai]==0.0.14->pydantic-ai) (1.3.1)\n",
      "Requirement already satisfied: typing-extensions<5,>=4.10 in /opt/homebrew/anaconda3/envs/ml-tutorials/lib/python3.12/site-packages (from anthropic>=0.40.0->pydantic-ai-slim[anthropic,groq,mistral,openai,vertexai]==0.0.14->pydantic-ai) (4.12.2)\n",
      "Requirement already satisfied: cachetools<6.0,>=2.0.0 in /opt/homebrew/anaconda3/envs/ml-tutorials/lib/python3.12/site-packages (from google-auth>=2.36.0->pydantic-ai-slim[anthropic,groq,mistral,openai,vertexai]==0.0.14->pydantic-ai) (5.5.0)\n",
      "Requirement already satisfied: pyasn1-modules>=0.2.1 in /opt/homebrew/anaconda3/envs/ml-tutorials/lib/python3.12/site-packages (from google-auth>=2.36.0->pydantic-ai-slim[anthropic,groq,mistral,openai,vertexai]==0.0.14->pydantic-ai) (0.4.1)\n",
      "Requirement already satisfied: rsa<5,>=3.1.4 in /opt/homebrew/anaconda3/envs/ml-tutorials/lib/python3.12/site-packages (from google-auth>=2.36.0->pydantic-ai-slim[anthropic,groq,mistral,openai,vertexai]==0.0.14->pydantic-ai) (4.9)\n",
      "Requirement already satisfied: colorama>=0.4 in /opt/homebrew/anaconda3/envs/ml-tutorials/lib/python3.12/site-packages (from griffe>=1.3.2->pydantic-ai-slim==0.0.14->pydantic-ai-slim[anthropic,groq,mistral,openai,vertexai]==0.0.14->pydantic-ai) (0.4.6)\n",
      "Requirement already satisfied: certifi in /opt/homebrew/anaconda3/envs/ml-tutorials/lib/python3.12/site-packages (from httpx>=0.27.2->pydantic-ai-slim==0.0.14->pydantic-ai-slim[anthropic,groq,mistral,openai,vertexai]==0.0.14->pydantic-ai) (2024.12.14)\n",
      "Requirement already satisfied: httpcore==1.* in /opt/homebrew/anaconda3/envs/ml-tutorials/lib/python3.12/site-packages (from httpx>=0.27.2->pydantic-ai-slim==0.0.14->pydantic-ai-slim[anthropic,groq,mistral,openai,vertexai]==0.0.14->pydantic-ai) (1.0.7)\n",
      "Requirement already satisfied: idna in /opt/homebrew/anaconda3/envs/ml-tutorials/lib/python3.12/site-packages (from httpx>=0.27.2->pydantic-ai-slim==0.0.14->pydantic-ai-slim[anthropic,groq,mistral,openai,vertexai]==0.0.14->pydantic-ai) (3.10)\n",
      "Requirement already satisfied: h11<0.15,>=0.13 in /opt/homebrew/anaconda3/envs/ml-tutorials/lib/python3.12/site-packages (from httpcore==1.*->httpx>=0.27.2->pydantic-ai-slim==0.0.14->pydantic-ai-slim[anthropic,groq,mistral,openai,vertexai]==0.0.14->pydantic-ai) (0.14.0)\n",
      "Requirement already satisfied: jsonpath-python<2.0.0,>=1.0.6 in /opt/homebrew/anaconda3/envs/ml-tutorials/lib/python3.12/site-packages (from mistralai>=1.2.5->pydantic-ai-slim[anthropic,groq,mistral,openai,vertexai]==0.0.14->pydantic-ai) (1.0.6)\n",
      "Requirement already satisfied: python-dateutil<3.0.0,>=2.8.2 in /opt/homebrew/anaconda3/envs/ml-tutorials/lib/python3.12/site-packages (from mistralai>=1.2.5->pydantic-ai-slim[anthropic,groq,mistral,openai,vertexai]==0.0.14->pydantic-ai) (2.9.0.post0)\n",
      "Requirement already satisfied: typing-inspect<0.10.0,>=0.9.0 in /opt/homebrew/anaconda3/envs/ml-tutorials/lib/python3.12/site-packages (from mistralai>=1.2.5->pydantic-ai-slim[anthropic,groq,mistral,openai,vertexai]==0.0.14->pydantic-ai) (0.9.0)\n",
      "Requirement already satisfied: tqdm>4 in /opt/homebrew/anaconda3/envs/ml-tutorials/lib/python3.12/site-packages (from openai>=1.54.3->pydantic-ai-slim[anthropic,groq,mistral,openai,vertexai]==0.0.14->pydantic-ai) (4.67.1)\n",
      "Requirement already satisfied: annotated-types>=0.6.0 in /opt/homebrew/anaconda3/envs/ml-tutorials/lib/python3.12/site-packages (from pydantic>=2.10->pydantic-ai-slim==0.0.14->pydantic-ai-slim[anthropic,groq,mistral,openai,vertexai]==0.0.14->pydantic-ai) (0.7.0)\n",
      "Requirement already satisfied: pydantic-core==2.27.2 in /opt/homebrew/anaconda3/envs/ml-tutorials/lib/python3.12/site-packages (from pydantic>=2.10->pydantic-ai-slim==0.0.14->pydantic-ai-slim[anthropic,groq,mistral,openai,vertexai]==0.0.14->pydantic-ai) (2.27.2)\n",
      "Requirement already satisfied: charset-normalizer<4,>=2 in /opt/homebrew/anaconda3/envs/ml-tutorials/lib/python3.12/site-packages (from requests>=2.32.3->pydantic-ai-slim[anthropic,groq,mistral,openai,vertexai]==0.0.14->pydantic-ai) (3.4.0)\n",
      "Requirement already satisfied: urllib3<3,>=1.21.1 in /opt/homebrew/anaconda3/envs/ml-tutorials/lib/python3.12/site-packages (from requests>=2.32.3->pydantic-ai-slim[anthropic,groq,mistral,openai,vertexai]==0.0.14->pydantic-ai) (2.2.3)\n",
      "Requirement already satisfied: pyasn1<0.7.0,>=0.4.6 in /opt/homebrew/anaconda3/envs/ml-tutorials/lib/python3.12/site-packages (from pyasn1-modules>=0.2.1->google-auth>=2.36.0->pydantic-ai-slim[anthropic,groq,mistral,openai,vertexai]==0.0.14->pydantic-ai) (0.6.1)\n",
      "Requirement already satisfied: six>=1.5 in /opt/homebrew/anaconda3/envs/ml-tutorials/lib/python3.12/site-packages (from python-dateutil<3.0.0,>=2.8.2->mistralai>=1.2.5->pydantic-ai-slim[anthropic,groq,mistral,openai,vertexai]==0.0.14->pydantic-ai) (1.17.0)\n",
      "Requirement already satisfied: mypy-extensions>=0.3.0 in /opt/homebrew/anaconda3/envs/ml-tutorials/lib/python3.12/site-packages (from typing-inspect<0.10.0,>=0.9.0->mistralai>=1.2.5->pydantic-ai-slim[anthropic,groq,mistral,openai,vertexai]==0.0.14->pydantic-ai) (1.0.0)\n",
      "Requirement already satisfied: pydantic-ai[examples] in /opt/homebrew/anaconda3/envs/ml-tutorials/lib/python3.12/site-packages (0.0.14)\n",
      "Requirement already satisfied: pydantic-ai-slim==0.0.14 in /opt/homebrew/anaconda3/envs/ml-tutorials/lib/python3.12/site-packages (from pydantic-ai-slim[anthropic,groq,mistral,openai,vertexai]==0.0.14->pydantic-ai[examples]) (0.0.14)\n",
      "Requirement already satisfied: pydantic-ai-examples==0.0.14 in /opt/homebrew/anaconda3/envs/ml-tutorials/lib/python3.12/site-packages (from pydantic-ai[examples]) (0.0.14)\n",
      "Requirement already satisfied: asyncpg>=0.30.0 in /opt/homebrew/anaconda3/envs/ml-tutorials/lib/python3.12/site-packages (from pydantic-ai-examples==0.0.14->pydantic-ai[examples]) (0.30.0)\n",
      "Requirement already satisfied: fastapi>=0.115.4 in /opt/homebrew/anaconda3/envs/ml-tutorials/lib/python3.12/site-packages (from pydantic-ai-examples==0.0.14->pydantic-ai[examples]) (0.115.6)\n",
      "Requirement already satisfied: logfire>=2.6 in /opt/homebrew/anaconda3/envs/ml-tutorials/lib/python3.12/site-packages (from logfire[asyncpg,fastapi,sqlite3]>=2.6->pydantic-ai-examples==0.0.14->pydantic-ai[examples]) (2.8.0)\n",
      "Requirement already satisfied: python-multipart>=0.0.17 in /opt/homebrew/anaconda3/envs/ml-tutorials/lib/python3.12/site-packages (from pydantic-ai-examples==0.0.14->pydantic-ai[examples]) (0.0.20)\n",
      "Requirement already satisfied: rich>=13.9.2 in /opt/homebrew/anaconda3/envs/ml-tutorials/lib/python3.12/site-packages (from pydantic-ai-examples==0.0.14->pydantic-ai[examples]) (13.9.4)\n",
      "Requirement already satisfied: uvicorn>=0.32.0 in /opt/homebrew/anaconda3/envs/ml-tutorials/lib/python3.12/site-packages (from pydantic-ai-examples==0.0.14->pydantic-ai[examples]) (0.34.0)\n",
      "Requirement already satisfied: eval-type-backport>=0.2.0 in /opt/homebrew/anaconda3/envs/ml-tutorials/lib/python3.12/site-packages (from pydantic-ai-slim==0.0.14->pydantic-ai-slim[anthropic,groq,mistral,openai,vertexai]==0.0.14->pydantic-ai[examples]) (0.2.0)\n",
      "Requirement already satisfied: griffe>=1.3.2 in /opt/homebrew/anaconda3/envs/ml-tutorials/lib/python3.12/site-packages (from pydantic-ai-slim==0.0.14->pydantic-ai-slim[anthropic,groq,mistral,openai,vertexai]==0.0.14->pydantic-ai[examples]) (1.5.1)\n",
      "Requirement already satisfied: httpx>=0.27.2 in /opt/homebrew/anaconda3/envs/ml-tutorials/lib/python3.12/site-packages (from pydantic-ai-slim==0.0.14->pydantic-ai-slim[anthropic,groq,mistral,openai,vertexai]==0.0.14->pydantic-ai[examples]) (0.27.2)\n",
      "Requirement already satisfied: logfire-api>=1.2.0 in /opt/homebrew/anaconda3/envs/ml-tutorials/lib/python3.12/site-packages (from pydantic-ai-slim==0.0.14->pydantic-ai-slim[anthropic,groq,mistral,openai,vertexai]==0.0.14->pydantic-ai[examples]) (2.8.0)\n",
      "Requirement already satisfied: pydantic>=2.10 in /opt/homebrew/anaconda3/envs/ml-tutorials/lib/python3.12/site-packages (from pydantic-ai-slim==0.0.14->pydantic-ai-slim[anthropic,groq,mistral,openai,vertexai]==0.0.14->pydantic-ai[examples]) (2.10.4)\n",
      "Requirement already satisfied: anthropic>=0.40.0 in /opt/homebrew/anaconda3/envs/ml-tutorials/lib/python3.12/site-packages (from pydantic-ai-slim[anthropic,groq,mistral,openai,vertexai]==0.0.14->pydantic-ai[examples]) (0.42.0)\n",
      "Requirement already satisfied: groq>=0.12.0 in /opt/homebrew/anaconda3/envs/ml-tutorials/lib/python3.12/site-packages (from pydantic-ai-slim[anthropic,groq,mistral,openai,vertexai]==0.0.14->pydantic-ai[examples]) (0.13.1)\n",
      "Requirement already satisfied: json-repair>=0.30.3 in /opt/homebrew/anaconda3/envs/ml-tutorials/lib/python3.12/site-packages (from pydantic-ai-slim[anthropic,groq,mistral,openai,vertexai]==0.0.14->pydantic-ai[examples]) (0.32.0)\n",
      "Requirement already satisfied: mistralai>=1.2.5 in /opt/homebrew/anaconda3/envs/ml-tutorials/lib/python3.12/site-packages (from pydantic-ai-slim[anthropic,groq,mistral,openai,vertexai]==0.0.14->pydantic-ai[examples]) (1.2.5)\n",
      "Requirement already satisfied: openai>=1.54.3 in /opt/homebrew/anaconda3/envs/ml-tutorials/lib/python3.12/site-packages (from pydantic-ai-slim[anthropic,groq,mistral,openai,vertexai]==0.0.14->pydantic-ai[examples]) (1.58.1)\n",
      "Requirement already satisfied: google-auth>=2.36.0 in /opt/homebrew/anaconda3/envs/ml-tutorials/lib/python3.12/site-packages (from pydantic-ai-slim[anthropic,groq,mistral,openai,vertexai]==0.0.14->pydantic-ai[examples]) (2.37.0)\n",
      "Requirement already satisfied: requests>=2.32.3 in /opt/homebrew/anaconda3/envs/ml-tutorials/lib/python3.12/site-packages (from pydantic-ai-slim[anthropic,groq,mistral,openai,vertexai]==0.0.14->pydantic-ai[examples]) (2.32.3)\n",
      "Requirement already satisfied: anyio<5,>=3.5.0 in /opt/homebrew/anaconda3/envs/ml-tutorials/lib/python3.12/site-packages (from anthropic>=0.40.0->pydantic-ai-slim[anthropic,groq,mistral,openai,vertexai]==0.0.14->pydantic-ai[examples]) (4.7.0)\n",
      "Requirement already satisfied: distro<2,>=1.7.0 in /opt/homebrew/anaconda3/envs/ml-tutorials/lib/python3.12/site-packages (from anthropic>=0.40.0->pydantic-ai-slim[anthropic,groq,mistral,openai,vertexai]==0.0.14->pydantic-ai[examples]) (1.9.0)\n",
      "Requirement already satisfied: jiter<1,>=0.4.0 in /opt/homebrew/anaconda3/envs/ml-tutorials/lib/python3.12/site-packages (from anthropic>=0.40.0->pydantic-ai-slim[anthropic,groq,mistral,openai,vertexai]==0.0.14->pydantic-ai[examples]) (0.8.2)\n",
      "Requirement already satisfied: sniffio in /opt/homebrew/anaconda3/envs/ml-tutorials/lib/python3.12/site-packages (from anthropic>=0.40.0->pydantic-ai-slim[anthropic,groq,mistral,openai,vertexai]==0.0.14->pydantic-ai[examples]) (1.3.1)\n",
      "Requirement already satisfied: typing-extensions<5,>=4.10 in /opt/homebrew/anaconda3/envs/ml-tutorials/lib/python3.12/site-packages (from anthropic>=0.40.0->pydantic-ai-slim[anthropic,groq,mistral,openai,vertexai]==0.0.14->pydantic-ai[examples]) (4.12.2)\n",
      "Requirement already satisfied: starlette<0.42.0,>=0.40.0 in /opt/homebrew/anaconda3/envs/ml-tutorials/lib/python3.12/site-packages (from fastapi>=0.115.4->pydantic-ai-examples==0.0.14->pydantic-ai[examples]) (0.41.3)\n",
      "Requirement already satisfied: cachetools<6.0,>=2.0.0 in /opt/homebrew/anaconda3/envs/ml-tutorials/lib/python3.12/site-packages (from google-auth>=2.36.0->pydantic-ai-slim[anthropic,groq,mistral,openai,vertexai]==0.0.14->pydantic-ai[examples]) (5.5.0)\n",
      "Requirement already satisfied: pyasn1-modules>=0.2.1 in /opt/homebrew/anaconda3/envs/ml-tutorials/lib/python3.12/site-packages (from google-auth>=2.36.0->pydantic-ai-slim[anthropic,groq,mistral,openai,vertexai]==0.0.14->pydantic-ai[examples]) (0.4.1)\n",
      "Requirement already satisfied: rsa<5,>=3.1.4 in /opt/homebrew/anaconda3/envs/ml-tutorials/lib/python3.12/site-packages (from google-auth>=2.36.0->pydantic-ai-slim[anthropic,groq,mistral,openai,vertexai]==0.0.14->pydantic-ai[examples]) (4.9)\n",
      "Requirement already satisfied: colorama>=0.4 in /opt/homebrew/anaconda3/envs/ml-tutorials/lib/python3.12/site-packages (from griffe>=1.3.2->pydantic-ai-slim==0.0.14->pydantic-ai-slim[anthropic,groq,mistral,openai,vertexai]==0.0.14->pydantic-ai[examples]) (0.4.6)\n",
      "Requirement already satisfied: certifi in /opt/homebrew/anaconda3/envs/ml-tutorials/lib/python3.12/site-packages (from httpx>=0.27.2->pydantic-ai-slim==0.0.14->pydantic-ai-slim[anthropic,groq,mistral,openai,vertexai]==0.0.14->pydantic-ai[examples]) (2024.12.14)\n",
      "Requirement already satisfied: httpcore==1.* in /opt/homebrew/anaconda3/envs/ml-tutorials/lib/python3.12/site-packages (from httpx>=0.27.2->pydantic-ai-slim==0.0.14->pydantic-ai-slim[anthropic,groq,mistral,openai,vertexai]==0.0.14->pydantic-ai[examples]) (1.0.7)\n",
      "Requirement already satisfied: idna in /opt/homebrew/anaconda3/envs/ml-tutorials/lib/python3.12/site-packages (from httpx>=0.27.2->pydantic-ai-slim==0.0.14->pydantic-ai-slim[anthropic,groq,mistral,openai,vertexai]==0.0.14->pydantic-ai[examples]) (3.10)\n",
      "Requirement already satisfied: h11<0.15,>=0.13 in /opt/homebrew/anaconda3/envs/ml-tutorials/lib/python3.12/site-packages (from httpcore==1.*->httpx>=0.27.2->pydantic-ai-slim==0.0.14->pydantic-ai-slim[anthropic,groq,mistral,openai,vertexai]==0.0.14->pydantic-ai[examples]) (0.14.0)\n",
      "Requirement already satisfied: executing>=2.0.1 in /opt/homebrew/anaconda3/envs/ml-tutorials/lib/python3.12/site-packages (from logfire>=2.6->logfire[asyncpg,fastapi,sqlite3]>=2.6->pydantic-ai-examples==0.0.14->pydantic-ai[examples]) (2.1.0)\n",
      "Requirement already satisfied: opentelemetry-exporter-otlp-proto-http>=1.21.0 in /opt/homebrew/anaconda3/envs/ml-tutorials/lib/python3.12/site-packages (from logfire>=2.6->logfire[asyncpg,fastapi,sqlite3]>=2.6->pydantic-ai-examples==0.0.14->pydantic-ai[examples]) (1.29.0)\n",
      "Requirement already satisfied: opentelemetry-instrumentation>=0.41b0 in /opt/homebrew/anaconda3/envs/ml-tutorials/lib/python3.12/site-packages (from logfire>=2.6->logfire[asyncpg,fastapi,sqlite3]>=2.6->pydantic-ai-examples==0.0.14->pydantic-ai[examples]) (0.50b0)\n",
      "Requirement already satisfied: opentelemetry-sdk>=1.21.0 in /opt/homebrew/anaconda3/envs/ml-tutorials/lib/python3.12/site-packages (from logfire>=2.6->logfire[asyncpg,fastapi,sqlite3]>=2.6->pydantic-ai-examples==0.0.14->pydantic-ai[examples]) (1.29.0)\n",
      "Requirement already satisfied: protobuf>=4.23.4 in /opt/homebrew/anaconda3/envs/ml-tutorials/lib/python3.12/site-packages (from logfire>=2.6->logfire[asyncpg,fastapi,sqlite3]>=2.6->pydantic-ai-examples==0.0.14->pydantic-ai[examples]) (5.29.2)\n",
      "Requirement already satisfied: opentelemetry-instrumentation-asyncpg>=0.42b0 in /opt/homebrew/anaconda3/envs/ml-tutorials/lib/python3.12/site-packages (from logfire[asyncpg,fastapi,sqlite3]>=2.6->pydantic-ai-examples==0.0.14->pydantic-ai[examples]) (0.50b0)\n",
      "Requirement already satisfied: opentelemetry-instrumentation-fastapi>=0.42b0 in /opt/homebrew/anaconda3/envs/ml-tutorials/lib/python3.12/site-packages (from logfire[asyncpg,fastapi,sqlite3]>=2.6->pydantic-ai-examples==0.0.14->pydantic-ai[examples]) (0.50b0)\n",
      "Requirement already satisfied: opentelemetry-instrumentation-sqlite3>=0.42b0 in /opt/homebrew/anaconda3/envs/ml-tutorials/lib/python3.12/site-packages (from logfire[asyncpg,fastapi,sqlite3]>=2.6->pydantic-ai-examples==0.0.14->pydantic-ai[examples]) (0.50b0)\n",
      "Requirement already satisfied: jsonpath-python<2.0.0,>=1.0.6 in /opt/homebrew/anaconda3/envs/ml-tutorials/lib/python3.12/site-packages (from mistralai>=1.2.5->pydantic-ai-slim[anthropic,groq,mistral,openai,vertexai]==0.0.14->pydantic-ai[examples]) (1.0.6)\n",
      "Requirement already satisfied: python-dateutil<3.0.0,>=2.8.2 in /opt/homebrew/anaconda3/envs/ml-tutorials/lib/python3.12/site-packages (from mistralai>=1.2.5->pydantic-ai-slim[anthropic,groq,mistral,openai,vertexai]==0.0.14->pydantic-ai[examples]) (2.9.0.post0)\n",
      "Requirement already satisfied: typing-inspect<0.10.0,>=0.9.0 in /opt/homebrew/anaconda3/envs/ml-tutorials/lib/python3.12/site-packages (from mistralai>=1.2.5->pydantic-ai-slim[anthropic,groq,mistral,openai,vertexai]==0.0.14->pydantic-ai[examples]) (0.9.0)\n",
      "Requirement already satisfied: tqdm>4 in /opt/homebrew/anaconda3/envs/ml-tutorials/lib/python3.12/site-packages (from openai>=1.54.3->pydantic-ai-slim[anthropic,groq,mistral,openai,vertexai]==0.0.14->pydantic-ai[examples]) (4.67.1)\n",
      "Requirement already satisfied: annotated-types>=0.6.0 in /opt/homebrew/anaconda3/envs/ml-tutorials/lib/python3.12/site-packages (from pydantic>=2.10->pydantic-ai-slim==0.0.14->pydantic-ai-slim[anthropic,groq,mistral,openai,vertexai]==0.0.14->pydantic-ai[examples]) (0.7.0)\n",
      "Requirement already satisfied: pydantic-core==2.27.2 in /opt/homebrew/anaconda3/envs/ml-tutorials/lib/python3.12/site-packages (from pydantic>=2.10->pydantic-ai-slim==0.0.14->pydantic-ai-slim[anthropic,groq,mistral,openai,vertexai]==0.0.14->pydantic-ai[examples]) (2.27.2)\n",
      "Requirement already satisfied: charset-normalizer<4,>=2 in /opt/homebrew/anaconda3/envs/ml-tutorials/lib/python3.12/site-packages (from requests>=2.32.3->pydantic-ai-slim[anthropic,groq,mistral,openai,vertexai]==0.0.14->pydantic-ai[examples]) (3.4.0)\n",
      "Requirement already satisfied: urllib3<3,>=1.21.1 in /opt/homebrew/anaconda3/envs/ml-tutorials/lib/python3.12/site-packages (from requests>=2.32.3->pydantic-ai-slim[anthropic,groq,mistral,openai,vertexai]==0.0.14->pydantic-ai[examples]) (2.2.3)\n",
      "Requirement already satisfied: markdown-it-py>=2.2.0 in /opt/homebrew/anaconda3/envs/ml-tutorials/lib/python3.12/site-packages (from rich>=13.9.2->pydantic-ai-examples==0.0.14->pydantic-ai[examples]) (3.0.0)\n",
      "Requirement already satisfied: pygments<3.0.0,>=2.13.0 in /opt/homebrew/anaconda3/envs/ml-tutorials/lib/python3.12/site-packages (from rich>=13.9.2->pydantic-ai-examples==0.0.14->pydantic-ai[examples]) (2.18.0)\n",
      "Requirement already satisfied: click>=7.0 in /opt/homebrew/anaconda3/envs/ml-tutorials/lib/python3.12/site-packages (from uvicorn>=0.32.0->pydantic-ai-examples==0.0.14->pydantic-ai[examples]) (8.1.7)\n",
      "Requirement already satisfied: mdurl~=0.1 in /opt/homebrew/anaconda3/envs/ml-tutorials/lib/python3.12/site-packages (from markdown-it-py>=2.2.0->rich>=13.9.2->pydantic-ai-examples==0.0.14->pydantic-ai[examples]) (0.1.2)\n",
      "Requirement already satisfied: deprecated>=1.2.6 in /opt/homebrew/anaconda3/envs/ml-tutorials/lib/python3.12/site-packages (from opentelemetry-exporter-otlp-proto-http>=1.21.0->logfire>=2.6->logfire[asyncpg,fastapi,sqlite3]>=2.6->pydantic-ai-examples==0.0.14->pydantic-ai[examples]) (1.2.15)\n",
      "Requirement already satisfied: googleapis-common-protos~=1.52 in /opt/homebrew/anaconda3/envs/ml-tutorials/lib/python3.12/site-packages (from opentelemetry-exporter-otlp-proto-http>=1.21.0->logfire>=2.6->logfire[asyncpg,fastapi,sqlite3]>=2.6->pydantic-ai-examples==0.0.14->pydantic-ai[examples]) (1.66.0)\n",
      "Requirement already satisfied: opentelemetry-api~=1.15 in /opt/homebrew/anaconda3/envs/ml-tutorials/lib/python3.12/site-packages (from opentelemetry-exporter-otlp-proto-http>=1.21.0->logfire>=2.6->logfire[asyncpg,fastapi,sqlite3]>=2.6->pydantic-ai-examples==0.0.14->pydantic-ai[examples]) (1.29.0)\n",
      "Requirement already satisfied: opentelemetry-exporter-otlp-proto-common==1.29.0 in /opt/homebrew/anaconda3/envs/ml-tutorials/lib/python3.12/site-packages (from opentelemetry-exporter-otlp-proto-http>=1.21.0->logfire>=2.6->logfire[asyncpg,fastapi,sqlite3]>=2.6->pydantic-ai-examples==0.0.14->pydantic-ai[examples]) (1.29.0)\n",
      "Requirement already satisfied: opentelemetry-proto==1.29.0 in /opt/homebrew/anaconda3/envs/ml-tutorials/lib/python3.12/site-packages (from opentelemetry-exporter-otlp-proto-http>=1.21.0->logfire>=2.6->logfire[asyncpg,fastapi,sqlite3]>=2.6->pydantic-ai-examples==0.0.14->pydantic-ai[examples]) (1.29.0)\n",
      "Requirement already satisfied: opentelemetry-semantic-conventions==0.50b0 in /opt/homebrew/anaconda3/envs/ml-tutorials/lib/python3.12/site-packages (from opentelemetry-instrumentation>=0.41b0->logfire>=2.6->logfire[asyncpg,fastapi,sqlite3]>=2.6->pydantic-ai-examples==0.0.14->pydantic-ai[examples]) (0.50b0)\n",
      "Requirement already satisfied: packaging>=18.0 in /opt/homebrew/anaconda3/envs/ml-tutorials/lib/python3.12/site-packages (from opentelemetry-instrumentation>=0.41b0->logfire>=2.6->logfire[asyncpg,fastapi,sqlite3]>=2.6->pydantic-ai-examples==0.0.14->pydantic-ai[examples]) (24.2)\n",
      "Requirement already satisfied: wrapt<2.0.0,>=1.0.0 in /opt/homebrew/anaconda3/envs/ml-tutorials/lib/python3.12/site-packages (from opentelemetry-instrumentation>=0.41b0->logfire>=2.6->logfire[asyncpg,fastapi,sqlite3]>=2.6->pydantic-ai-examples==0.0.14->pydantic-ai[examples]) (1.17.0)\n",
      "Requirement already satisfied: importlib-metadata<=8.5.0,>=6.0 in /opt/homebrew/anaconda3/envs/ml-tutorials/lib/python3.12/site-packages (from opentelemetry-api~=1.15->opentelemetry-exporter-otlp-proto-http>=1.21.0->logfire>=2.6->logfire[asyncpg,fastapi,sqlite3]>=2.6->pydantic-ai-examples==0.0.14->pydantic-ai[examples]) (8.5.0)\n",
      "Requirement already satisfied: opentelemetry-instrumentation-asgi==0.50b0 in /opt/homebrew/anaconda3/envs/ml-tutorials/lib/python3.12/site-packages (from opentelemetry-instrumentation-fastapi>=0.42b0->logfire[asyncpg,fastapi,sqlite3]>=2.6->pydantic-ai-examples==0.0.14->pydantic-ai[examples]) (0.50b0)\n",
      "Requirement already satisfied: opentelemetry-util-http==0.50b0 in /opt/homebrew/anaconda3/envs/ml-tutorials/lib/python3.12/site-packages (from opentelemetry-instrumentation-fastapi>=0.42b0->logfire[asyncpg,fastapi,sqlite3]>=2.6->pydantic-ai-examples==0.0.14->pydantic-ai[examples]) (0.50b0)\n",
      "Requirement already satisfied: asgiref~=3.0 in /opt/homebrew/anaconda3/envs/ml-tutorials/lib/python3.12/site-packages (from opentelemetry-instrumentation-asgi==0.50b0->opentelemetry-instrumentation-fastapi>=0.42b0->logfire[asyncpg,fastapi,sqlite3]>=2.6->pydantic-ai-examples==0.0.14->pydantic-ai[examples]) (3.8.1)\n",
      "Requirement already satisfied: opentelemetry-instrumentation-dbapi==0.50b0 in /opt/homebrew/anaconda3/envs/ml-tutorials/lib/python3.12/site-packages (from opentelemetry-instrumentation-sqlite3>=0.42b0->logfire[asyncpg,fastapi,sqlite3]>=2.6->pydantic-ai-examples==0.0.14->pydantic-ai[examples]) (0.50b0)\n",
      "Requirement already satisfied: pyasn1<0.7.0,>=0.4.6 in /opt/homebrew/anaconda3/envs/ml-tutorials/lib/python3.12/site-packages (from pyasn1-modules>=0.2.1->google-auth>=2.36.0->pydantic-ai-slim[anthropic,groq,mistral,openai,vertexai]==0.0.14->pydantic-ai[examples]) (0.6.1)\n",
      "Requirement already satisfied: six>=1.5 in /opt/homebrew/anaconda3/envs/ml-tutorials/lib/python3.12/site-packages (from python-dateutil<3.0.0,>=2.8.2->mistralai>=1.2.5->pydantic-ai-slim[anthropic,groq,mistral,openai,vertexai]==0.0.14->pydantic-ai[examples]) (1.17.0)\n",
      "Requirement already satisfied: mypy-extensions>=0.3.0 in /opt/homebrew/anaconda3/envs/ml-tutorials/lib/python3.12/site-packages (from typing-inspect<0.10.0,>=0.9.0->mistralai>=1.2.5->pydantic-ai-slim[anthropic,groq,mistral,openai,vertexai]==0.0.14->pydantic-ai[examples]) (1.0.0)\n",
      "Requirement already satisfied: zipp>=3.20 in /opt/homebrew/anaconda3/envs/ml-tutorials/lib/python3.12/site-packages (from importlib-metadata<=8.5.0,>=6.0->opentelemetry-api~=1.15->opentelemetry-exporter-otlp-proto-http>=1.21.0->logfire>=2.6->logfire[asyncpg,fastapi,sqlite3]>=2.6->pydantic-ai-examples==0.0.14->pydantic-ai[examples]) (3.21.0)\n"
     ]
    }
   ],
   "source": [
    "!pip install pydantic-ai\n",
    "!pip install 'pydantic-ai[examples]'"
   ]
  },
  {
   "cell_type": "code",
   "execution_count": 2,
   "metadata": {},
   "outputs": [],
   "source": [
    "import pydantic_ai"
   ]
  },
  {
   "cell_type": "code",
   "execution_count": 3,
   "metadata": {},
   "outputs": [
    {
     "name": "stderr",
     "output_type": "stream",
     "text": [
      "Python-dotenv could not parse statement starting at line 1\n"
     ]
    },
    {
     "ename": "RuntimeError",
     "evalue": "This event loop is already running",
     "output_type": "error",
     "traceback": [
      "\u001b[0;31m---------------------------------------------------------------------------\u001b[0m",
      "\u001b[0;31mRuntimeError\u001b[0m                              Traceback (most recent call last)",
      "Cell \u001b[0;32mIn[3], line 28\u001b[0m\n\u001b[1;32m     26\u001b[0m \u001b[38;5;66;03m# Run the agent\u001b[39;00m\n\u001b[1;32m     27\u001b[0m success_number \u001b[38;5;241m=\u001b[39m \u001b[38;5;241m18\u001b[39m  \n\u001b[0;32m---> 28\u001b[0m result \u001b[38;5;241m=\u001b[39m \u001b[43mroulette_agent\u001b[49m\u001b[38;5;241;43m.\u001b[39;49m\u001b[43mrun_sync\u001b[49m\u001b[43m(\u001b[49m\u001b[38;5;124;43m'\u001b[39;49m\u001b[38;5;124;43mPut my money on square eighteen\u001b[39;49m\u001b[38;5;124;43m'\u001b[39;49m\u001b[43m,\u001b[49m\u001b[43m \u001b[49m\u001b[43mdeps\u001b[49m\u001b[38;5;241;43m=\u001b[39;49m\u001b[43msuccess_number\u001b[49m\u001b[43m)\u001b[49m\n\u001b[1;32m     29\u001b[0m \u001b[38;5;28mprint\u001b[39m(result\u001b[38;5;241m.\u001b[39mdata)  \n\u001b[1;32m     30\u001b[0m \u001b[38;5;66;03m#> True\u001b[39;00m\n",
      "File \u001b[0;32m/opt/homebrew/anaconda3/envs/ml-tutorials/lib/python3.12/site-packages/pydantic_ai/agent.py:327\u001b[0m, in \u001b[0;36mAgent.run_sync\u001b[0;34m(self, user_prompt, message_history, model, deps, model_settings, usage_limits, infer_name)\u001b[0m\n\u001b[1;32m    325\u001b[0m \u001b[38;5;28;01mif\u001b[39;00m infer_name \u001b[38;5;129;01mand\u001b[39;00m \u001b[38;5;28mself\u001b[39m\u001b[38;5;241m.\u001b[39mname \u001b[38;5;129;01mis\u001b[39;00m \u001b[38;5;28;01mNone\u001b[39;00m:\n\u001b[1;32m    326\u001b[0m     \u001b[38;5;28mself\u001b[39m\u001b[38;5;241m.\u001b[39m_infer_name(inspect\u001b[38;5;241m.\u001b[39mcurrentframe())\n\u001b[0;32m--> 327\u001b[0m \u001b[38;5;28;01mreturn\u001b[39;00m \u001b[43masyncio\u001b[49m\u001b[38;5;241;43m.\u001b[39;49m\u001b[43mget_event_loop\u001b[49m\u001b[43m(\u001b[49m\u001b[43m)\u001b[49m\u001b[38;5;241;43m.\u001b[39;49m\u001b[43mrun_until_complete\u001b[49m\u001b[43m(\u001b[49m\n\u001b[1;32m    328\u001b[0m \u001b[43m    \u001b[49m\u001b[38;5;28;43mself\u001b[39;49m\u001b[38;5;241;43m.\u001b[39;49m\u001b[43mrun\u001b[49m\u001b[43m(\u001b[49m\n\u001b[1;32m    329\u001b[0m \u001b[43m        \u001b[49m\u001b[43muser_prompt\u001b[49m\u001b[43m,\u001b[49m\n\u001b[1;32m    330\u001b[0m \u001b[43m        \u001b[49m\u001b[43mmessage_history\u001b[49m\u001b[38;5;241;43m=\u001b[39;49m\u001b[43mmessage_history\u001b[49m\u001b[43m,\u001b[49m\n\u001b[1;32m    331\u001b[0m \u001b[43m        \u001b[49m\u001b[43mmodel\u001b[49m\u001b[38;5;241;43m=\u001b[39;49m\u001b[43mmodel\u001b[49m\u001b[43m,\u001b[49m\n\u001b[1;32m    332\u001b[0m \u001b[43m        \u001b[49m\u001b[43mdeps\u001b[49m\u001b[38;5;241;43m=\u001b[39;49m\u001b[43mdeps\u001b[49m\u001b[43m,\u001b[49m\n\u001b[1;32m    333\u001b[0m \u001b[43m        \u001b[49m\u001b[43mmodel_settings\u001b[49m\u001b[38;5;241;43m=\u001b[39;49m\u001b[43mmodel_settings\u001b[49m\u001b[43m,\u001b[49m\n\u001b[1;32m    334\u001b[0m \u001b[43m        \u001b[49m\u001b[43musage_limits\u001b[49m\u001b[38;5;241;43m=\u001b[39;49m\u001b[43musage_limits\u001b[49m\u001b[43m,\u001b[49m\n\u001b[1;32m    335\u001b[0m \u001b[43m        \u001b[49m\u001b[43minfer_name\u001b[49m\u001b[38;5;241;43m=\u001b[39;49m\u001b[38;5;28;43;01mFalse\u001b[39;49;00m\u001b[43m,\u001b[49m\n\u001b[1;32m    336\u001b[0m \u001b[43m    \u001b[49m\u001b[43m)\u001b[49m\n\u001b[1;32m    337\u001b[0m \u001b[43m\u001b[49m\u001b[43m)\u001b[49m\n",
      "File \u001b[0;32m/opt/homebrew/anaconda3/envs/ml-tutorials/lib/python3.12/asyncio/base_events.py:662\u001b[0m, in \u001b[0;36mBaseEventLoop.run_until_complete\u001b[0;34m(self, future)\u001b[0m\n\u001b[1;32m    651\u001b[0m \u001b[38;5;250m\u001b[39m\u001b[38;5;124;03m\"\"\"Run until the Future is done.\u001b[39;00m\n\u001b[1;32m    652\u001b[0m \n\u001b[1;32m    653\u001b[0m \u001b[38;5;124;03mIf the argument is a coroutine, it is wrapped in a Task.\u001b[39;00m\n\u001b[0;32m   (...)\u001b[0m\n\u001b[1;32m    659\u001b[0m \u001b[38;5;124;03mReturn the Future's result, or raise its exception.\u001b[39;00m\n\u001b[1;32m    660\u001b[0m \u001b[38;5;124;03m\"\"\"\u001b[39;00m\n\u001b[1;32m    661\u001b[0m \u001b[38;5;28mself\u001b[39m\u001b[38;5;241m.\u001b[39m_check_closed()\n\u001b[0;32m--> 662\u001b[0m \u001b[38;5;28;43mself\u001b[39;49m\u001b[38;5;241;43m.\u001b[39;49m\u001b[43m_check_running\u001b[49m\u001b[43m(\u001b[49m\u001b[43m)\u001b[49m\n\u001b[1;32m    664\u001b[0m new_task \u001b[38;5;241m=\u001b[39m \u001b[38;5;129;01mnot\u001b[39;00m futures\u001b[38;5;241m.\u001b[39misfuture(future)\n\u001b[1;32m    665\u001b[0m future \u001b[38;5;241m=\u001b[39m tasks\u001b[38;5;241m.\u001b[39mensure_future(future, loop\u001b[38;5;241m=\u001b[39m\u001b[38;5;28mself\u001b[39m)\n",
      "File \u001b[0;32m/opt/homebrew/anaconda3/envs/ml-tutorials/lib/python3.12/asyncio/base_events.py:621\u001b[0m, in \u001b[0;36mBaseEventLoop._check_running\u001b[0;34m(self)\u001b[0m\n\u001b[1;32m    619\u001b[0m \u001b[38;5;28;01mdef\u001b[39;00m \u001b[38;5;21m_check_running\u001b[39m(\u001b[38;5;28mself\u001b[39m):\n\u001b[1;32m    620\u001b[0m     \u001b[38;5;28;01mif\u001b[39;00m \u001b[38;5;28mself\u001b[39m\u001b[38;5;241m.\u001b[39mis_running():\n\u001b[0;32m--> 621\u001b[0m         \u001b[38;5;28;01mraise\u001b[39;00m \u001b[38;5;167;01mRuntimeError\u001b[39;00m(\u001b[38;5;124m'\u001b[39m\u001b[38;5;124mThis event loop is already running\u001b[39m\u001b[38;5;124m'\u001b[39m)\n\u001b[1;32m    622\u001b[0m     \u001b[38;5;28;01mif\u001b[39;00m events\u001b[38;5;241m.\u001b[39m_get_running_loop() \u001b[38;5;129;01mis\u001b[39;00m \u001b[38;5;129;01mnot\u001b[39;00m \u001b[38;5;28;01mNone\u001b[39;00m:\n\u001b[1;32m    623\u001b[0m         \u001b[38;5;28;01mraise\u001b[39;00m \u001b[38;5;167;01mRuntimeError\u001b[39;00m(\n\u001b[1;32m    624\u001b[0m             \u001b[38;5;124m'\u001b[39m\u001b[38;5;124mCannot run the event loop while another loop is running\u001b[39m\u001b[38;5;124m'\u001b[39m)\n",
      "\u001b[0;31mRuntimeError\u001b[0m: This event loop is already running"
     ]
    }
   ],
   "source": [
    "from pydantic_ai import Agent, RunContext\n",
    "from dotenv import load_dotenv\n",
    "import os\n",
    "\n",
    "load_dotenv()  # Load variables from .env\n",
    "\n",
    "# Access the OPEN_AI_API environment variable\n",
    "OPEN_AI_API = os.getenv('OPEN_AI_API')\n",
    "roulette_agent = Agent(  \n",
    "    'openai:gpt-4o',\n",
    "    deps_type=int,\n",
    "    result_type=bool,\n",
    "    system_prompt=(\n",
    "        'Use the `roulette_wheel` function to see if the '\n",
    "        'customer has won based on the number they provide.'\n",
    "    ),\n",
    ")\n",
    "\n",
    "\n",
    "@roulette_agent.tool\n",
    "async def roulette_wheel(ctx: RunContext[int], square: int) -> str:  \n",
    "    \"\"\"check if the square is a winner\"\"\"\n",
    "    return 'winner' if square == ctx.deps else 'loser'\n",
    "\n",
    "\n",
    "# Run the agent\n",
    "success_number = 18  \n",
    "result = roulette_agent.run_sync('Put my money on square eighteen', deps=success_number)\n",
    "print(result.data)  \n",
    "#> True\n",
    "\n",
    "result = roulette_agent.run_sync('I bet five is the winner', deps=success_number)\n",
    "print(result.data)\n",
    "#> False"
   ]
  },
  {
   "cell_type": "code",
   "execution_count": 13,
   "metadata": {},
   "outputs": [],
   "source": [
    "a=os.getenv('OPEN_AI_API')\n",
    "a"
   ]
  },
  {
   "cell_type": "code",
   "execution_count": 4,
   "metadata": {},
   "outputs": [
    {
     "ename": "RuntimeError",
     "evalue": "This event loop is already running",
     "output_type": "error",
     "traceback": [
      "\u001b[0;31m---------------------------------------------------------------------------\u001b[0m",
      "\u001b[0;31mRuntimeError\u001b[0m                              Traceback (most recent call last)",
      "Cell \u001b[0;32mIn[4], line 5\u001b[0m\n\u001b[1;32m      1\u001b[0m \u001b[38;5;28;01mfrom\u001b[39;00m \u001b[38;5;21;01mpydantic_ai\u001b[39;00m \u001b[38;5;28;01mimport\u001b[39;00m Agent\n\u001b[1;32m      3\u001b[0m agent \u001b[38;5;241m=\u001b[39m Agent(\u001b[38;5;124m'\u001b[39m\u001b[38;5;124mopenai:gpt-4o\u001b[39m\u001b[38;5;124m'\u001b[39m)\n\u001b[0;32m----> 5\u001b[0m result_sync \u001b[38;5;241m=\u001b[39m \u001b[43magent\u001b[49m\u001b[38;5;241;43m.\u001b[39;49m\u001b[43mrun_sync\u001b[49m\u001b[43m(\u001b[49m\u001b[38;5;124;43m'\u001b[39;49m\u001b[38;5;124;43mWhat is the capital of Italy?\u001b[39;49m\u001b[38;5;124;43m'\u001b[39;49m\u001b[43m)\u001b[49m\n\u001b[1;32m      6\u001b[0m \u001b[38;5;28mprint\u001b[39m(result_sync\u001b[38;5;241m.\u001b[39mdata)\n\u001b[1;32m      7\u001b[0m \u001b[38;5;66;03m#> Rome\u001b[39;00m\n",
      "File \u001b[0;32m/opt/homebrew/anaconda3/envs/ml-tutorials/lib/python3.12/site-packages/pydantic_ai/agent.py:327\u001b[0m, in \u001b[0;36mAgent.run_sync\u001b[0;34m(self, user_prompt, message_history, model, deps, model_settings, usage_limits, infer_name)\u001b[0m\n\u001b[1;32m    325\u001b[0m \u001b[38;5;28;01mif\u001b[39;00m infer_name \u001b[38;5;129;01mand\u001b[39;00m \u001b[38;5;28mself\u001b[39m\u001b[38;5;241m.\u001b[39mname \u001b[38;5;129;01mis\u001b[39;00m \u001b[38;5;28;01mNone\u001b[39;00m:\n\u001b[1;32m    326\u001b[0m     \u001b[38;5;28mself\u001b[39m\u001b[38;5;241m.\u001b[39m_infer_name(inspect\u001b[38;5;241m.\u001b[39mcurrentframe())\n\u001b[0;32m--> 327\u001b[0m \u001b[38;5;28;01mreturn\u001b[39;00m \u001b[43masyncio\u001b[49m\u001b[38;5;241;43m.\u001b[39;49m\u001b[43mget_event_loop\u001b[49m\u001b[43m(\u001b[49m\u001b[43m)\u001b[49m\u001b[38;5;241;43m.\u001b[39;49m\u001b[43mrun_until_complete\u001b[49m\u001b[43m(\u001b[49m\n\u001b[1;32m    328\u001b[0m \u001b[43m    \u001b[49m\u001b[38;5;28;43mself\u001b[39;49m\u001b[38;5;241;43m.\u001b[39;49m\u001b[43mrun\u001b[49m\u001b[43m(\u001b[49m\n\u001b[1;32m    329\u001b[0m \u001b[43m        \u001b[49m\u001b[43muser_prompt\u001b[49m\u001b[43m,\u001b[49m\n\u001b[1;32m    330\u001b[0m \u001b[43m        \u001b[49m\u001b[43mmessage_history\u001b[49m\u001b[38;5;241;43m=\u001b[39;49m\u001b[43mmessage_history\u001b[49m\u001b[43m,\u001b[49m\n\u001b[1;32m    331\u001b[0m \u001b[43m        \u001b[49m\u001b[43mmodel\u001b[49m\u001b[38;5;241;43m=\u001b[39;49m\u001b[43mmodel\u001b[49m\u001b[43m,\u001b[49m\n\u001b[1;32m    332\u001b[0m \u001b[43m        \u001b[49m\u001b[43mdeps\u001b[49m\u001b[38;5;241;43m=\u001b[39;49m\u001b[43mdeps\u001b[49m\u001b[43m,\u001b[49m\n\u001b[1;32m    333\u001b[0m \u001b[43m        \u001b[49m\u001b[43mmodel_settings\u001b[49m\u001b[38;5;241;43m=\u001b[39;49m\u001b[43mmodel_settings\u001b[49m\u001b[43m,\u001b[49m\n\u001b[1;32m    334\u001b[0m \u001b[43m        \u001b[49m\u001b[43musage_limits\u001b[49m\u001b[38;5;241;43m=\u001b[39;49m\u001b[43musage_limits\u001b[49m\u001b[43m,\u001b[49m\n\u001b[1;32m    335\u001b[0m \u001b[43m        \u001b[49m\u001b[43minfer_name\u001b[49m\u001b[38;5;241;43m=\u001b[39;49m\u001b[38;5;28;43;01mFalse\u001b[39;49;00m\u001b[43m,\u001b[49m\n\u001b[1;32m    336\u001b[0m \u001b[43m    \u001b[49m\u001b[43m)\u001b[49m\n\u001b[1;32m    337\u001b[0m \u001b[43m\u001b[49m\u001b[43m)\u001b[49m\n",
      "File \u001b[0;32m/opt/homebrew/anaconda3/envs/ml-tutorials/lib/python3.12/asyncio/base_events.py:662\u001b[0m, in \u001b[0;36mBaseEventLoop.run_until_complete\u001b[0;34m(self, future)\u001b[0m\n\u001b[1;32m    651\u001b[0m \u001b[38;5;250m\u001b[39m\u001b[38;5;124;03m\"\"\"Run until the Future is done.\u001b[39;00m\n\u001b[1;32m    652\u001b[0m \n\u001b[1;32m    653\u001b[0m \u001b[38;5;124;03mIf the argument is a coroutine, it is wrapped in a Task.\u001b[39;00m\n\u001b[0;32m   (...)\u001b[0m\n\u001b[1;32m    659\u001b[0m \u001b[38;5;124;03mReturn the Future's result, or raise its exception.\u001b[39;00m\n\u001b[1;32m    660\u001b[0m \u001b[38;5;124;03m\"\"\"\u001b[39;00m\n\u001b[1;32m    661\u001b[0m \u001b[38;5;28mself\u001b[39m\u001b[38;5;241m.\u001b[39m_check_closed()\n\u001b[0;32m--> 662\u001b[0m \u001b[38;5;28;43mself\u001b[39;49m\u001b[38;5;241;43m.\u001b[39;49m\u001b[43m_check_running\u001b[49m\u001b[43m(\u001b[49m\u001b[43m)\u001b[49m\n\u001b[1;32m    664\u001b[0m new_task \u001b[38;5;241m=\u001b[39m \u001b[38;5;129;01mnot\u001b[39;00m futures\u001b[38;5;241m.\u001b[39misfuture(future)\n\u001b[1;32m    665\u001b[0m future \u001b[38;5;241m=\u001b[39m tasks\u001b[38;5;241m.\u001b[39mensure_future(future, loop\u001b[38;5;241m=\u001b[39m\u001b[38;5;28mself\u001b[39m)\n",
      "File \u001b[0;32m/opt/homebrew/anaconda3/envs/ml-tutorials/lib/python3.12/asyncio/base_events.py:621\u001b[0m, in \u001b[0;36mBaseEventLoop._check_running\u001b[0;34m(self)\u001b[0m\n\u001b[1;32m    619\u001b[0m \u001b[38;5;28;01mdef\u001b[39;00m \u001b[38;5;21m_check_running\u001b[39m(\u001b[38;5;28mself\u001b[39m):\n\u001b[1;32m    620\u001b[0m     \u001b[38;5;28;01mif\u001b[39;00m \u001b[38;5;28mself\u001b[39m\u001b[38;5;241m.\u001b[39mis_running():\n\u001b[0;32m--> 621\u001b[0m         \u001b[38;5;28;01mraise\u001b[39;00m \u001b[38;5;167;01mRuntimeError\u001b[39;00m(\u001b[38;5;124m'\u001b[39m\u001b[38;5;124mThis event loop is already running\u001b[39m\u001b[38;5;124m'\u001b[39m)\n\u001b[1;32m    622\u001b[0m     \u001b[38;5;28;01mif\u001b[39;00m events\u001b[38;5;241m.\u001b[39m_get_running_loop() \u001b[38;5;129;01mis\u001b[39;00m \u001b[38;5;129;01mnot\u001b[39;00m \u001b[38;5;28;01mNone\u001b[39;00m:\n\u001b[1;32m    623\u001b[0m         \u001b[38;5;28;01mraise\u001b[39;00m \u001b[38;5;167;01mRuntimeError\u001b[39;00m(\n\u001b[1;32m    624\u001b[0m             \u001b[38;5;124m'\u001b[39m\u001b[38;5;124mCannot run the event loop while another loop is running\u001b[39m\u001b[38;5;124m'\u001b[39m)\n",
      "\u001b[0;31mRuntimeError\u001b[0m: This event loop is already running"
     ]
    }
   ],
   "source": [
    "from pydantic_ai import Agent\n",
    "\n",
    "agent = Agent('openai:gpt-4o')\n",
    "\n",
    "result_sync = agent.run_sync('What is the capital of Italy?')\n",
    "print(result_sync.data)\n",
    "#> Rome\n",
    "\n",
    "\n",
    "async def main():\n",
    "    result = await agent.run('What is the capital of France?')\n",
    "    print(result.data)\n",
    "    #> Paris\n",
    "\n",
    "    async with agent.run_stream('What is the capital of the UK?') as response:\n",
    "        print(await response.get_data())\n",
    "        #> London"
   ]
  },
  {
   "cell_type": "code",
   "execution_count": null,
   "metadata": {},
   "outputs": [],
   "source": []
  }
 ],
 "metadata": {
  "kernelspec": {
   "display_name": "ml-tutorials",
   "language": "python",
   "name": "python3"
  },
  "language_info": {
   "codemirror_mode": {
    "name": "ipython",
    "version": 3
   },
   "file_extension": ".py",
   "mimetype": "text/x-python",
   "name": "python",
   "nbconvert_exporter": "python",
   "pygments_lexer": "ipython3",
   "version": "3.12.8"
  }
 },
 "nbformat": 4,
 "nbformat_minor": 2
}
