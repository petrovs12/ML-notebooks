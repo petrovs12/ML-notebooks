{
 "cells": [
  {
   "cell_type": "code",
   "execution_count": 1,
   "metadata": {},
   "outputs": [],
   "source": [
    "import jax"
   ]
  },
  {
   "cell_type": "code",
   "execution_count": 18,
   "metadata": {},
   "outputs": [
    {
     "data": {
      "text/plain": [
       "Array(0.39999998, dtype=float32, weak_type=True)"
      ]
     },
     "execution_count": 18,
     "metadata": {},
     "output_type": "execute_result"
    }
   ],
   "source": [
    "# set up a function, and call its derivative\n",
    "def f(x):\n",
    "    b=3 if x>0 else 1\n",
    "    return 3 * x**2 +b*x+1 \n",
    "jax.grad(f)(-0.1)"
   ]
  },
  {
   "cell_type": "code",
   "execution_count": 20,
   "metadata": {},
   "outputs": [
    {
     "name": "stdout",
     "output_type": "stream",
     "text": [
      "Traced<ShapedArray(float32[], weak_type=True)>with<JVPTrace> with\n",
      "  primal = -0.1\n",
      "  tangent = Traced<ShapedArray(float32[], weak_type=True)>with<JaxprTrace> with\n",
      "    pval = (ShapedArray(float32[], weak_type=True), None)\n",
      "    recipe = LambdaBinding()\n"
     ]
    },
    {
     "data": {
      "text/plain": [
       "Array(0.39999998, dtype=float32, weak_type=True)"
      ]
     },
     "execution_count": 20,
     "metadata": {},
     "output_type": "execute_result"
    }
   ],
   "source": [
    "# set up a function, and call its derivative\n",
    "def g(x):\n",
    "    print(x)# print and random side effects work\n",
    "    b=3 if x>0 else 1\n",
    "    return 3 * x**2 +b*x+1 \n",
    "jax.grad(g)(-0.1)"
   ]
  },
  {
   "cell_type": "code",
   "execution_count": 17,
   "metadata": {},
   "outputs": [],
   "source": [
    "fjit=jax.jit(f)"
   ]
  },
  {
   "cell_type": "code",
   "execution_count": 16,
   "metadata": {},
   "outputs": [],
   "source": [
    "import jax\n",
    "import jax.numpy as jnp\n",
    "from jax import grad\n",
    "\n",
    "grad_f = grad(fjit)\n",
    "\n"
   ]
  },
  {
   "cell_type": "code",
   "execution_count": null,
   "metadata": {},
   "outputs": [],
   "source": []
  }
 ],
 "metadata": {
  "kernelspec": {
   "display_name": "ml-tutorials",
   "language": "python",
   "name": "python3"
  },
  "language_info": {
   "codemirror_mode": {
    "name": "ipython",
    "version": 3
   },
   "file_extension": ".py",
   "mimetype": "text/x-python",
   "name": "python",
   "nbconvert_exporter": "python",
   "pygments_lexer": "ipython3",
   "version": "3.12.8"
  }
 },
 "nbformat": 4,
 "nbformat_minor": 2
}
