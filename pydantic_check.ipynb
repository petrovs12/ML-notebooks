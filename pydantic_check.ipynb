{
 "cells": [
  {
   "cell_type": "code",
   "execution_count": null,
   "metadata": {},
   "outputs": [
    {
     "ename": "TypeError",
     "evalue": "field_validator() got an unexpected keyword argument 'pre'",
     "output_type": "error",
     "traceback": [
      "\u001b[0;31m---------------------------------------------------------------------------\u001b[0m",
      "\u001b[0;31mTypeError\u001b[0m                                 Traceback (most recent call last)",
      "Cell \u001b[0;32mIn[6], line 4\u001b[0m\n\u001b[1;32m      1\u001b[0m \u001b[38;5;28;01mfrom\u001b[39;00m \u001b[38;5;21;01mpydantic\u001b[39;00m \u001b[38;5;28;01mimport\u001b[39;00m BaseModel, ValidationError, field_validator, ConfigDict\n\u001b[1;32m      2\u001b[0m \u001b[38;5;28;01mfrom\u001b[39;00m \u001b[38;5;21;01mdifflib\u001b[39;00m \u001b[38;5;28;01mimport\u001b[39;00m get_close_matches\n\u001b[0;32m----> 4\u001b[0m \u001b[38;5;28;43;01mclass\u001b[39;49;00m\u001b[43m \u001b[49m\u001b[38;5;21;43;01mMyModel\u001b[39;49;00m\u001b[43m(\u001b[49m\u001b[43mBaseModel\u001b[49m\u001b[43m)\u001b[49m\u001b[43m:\u001b[49m\n\u001b[1;32m      5\u001b[0m \u001b[43m    \u001b[49m\u001b[43mmodel_config\u001b[49m\u001b[43m \u001b[49m\u001b[38;5;241;43m=\u001b[39;49m\u001b[43m \u001b[49m\u001b[43mConfigDict\u001b[49m\u001b[43m(\u001b[49m\u001b[43mextra\u001b[49m\u001b[38;5;241;43m=\u001b[39;49m\u001b[38;5;124;43m'\u001b[39;49m\u001b[38;5;124;43mforbid\u001b[39;49m\u001b[38;5;124;43m'\u001b[39;49m\u001b[43m)\u001b[49m\n\u001b[1;32m      7\u001b[0m \u001b[43m    \u001b[49m\u001b[43mname\u001b[49m\u001b[43m:\u001b[49m\u001b[43m \u001b[49m\u001b[38;5;28;43mstr\u001b[39;49m\n",
      "Cell \u001b[0;32mIn[6], line 11\u001b[0m, in \u001b[0;36mMyModel\u001b[0;34m()\u001b[0m\n\u001b[1;32m      8\u001b[0m age: \u001b[38;5;28mint\u001b[39m\n\u001b[1;32m      9\u001b[0m country: \u001b[38;5;28mstr\u001b[39m\n\u001b[0;32m---> 11\u001b[0m \u001b[38;5;129m@field_validator\u001b[39m\u001b[43m(\u001b[49m\u001b[38;5;124;43m'\u001b[39;49m\u001b[38;5;124;43m*\u001b[39;49m\u001b[38;5;124;43m'\u001b[39;49m\u001b[43m,\u001b[49m\u001b[43m \u001b[49m\u001b[43mpre\u001b[49m\u001b[38;5;241;43m=\u001b[39;49m\u001b[38;5;28;43;01mTrue\u001b[39;49;00m\u001b[43m,\u001b[49m\u001b[43m \u001b[49m\u001b[43mallow_reuse\u001b[49m\u001b[38;5;241;43m=\u001b[39;49m\u001b[38;5;28;43;01mTrue\u001b[39;49;00m\u001b[43m)\u001b[49m\n\u001b[1;32m     12\u001b[0m \u001b[38;5;28;01mdef\u001b[39;00m \u001b[38;5;21msuggest_fields\u001b[39m(\u001b[38;5;28mcls\u001b[39m, v, info):\n\u001b[1;32m     13\u001b[0m     values \u001b[38;5;241m=\u001b[39m info\u001b[38;5;241m.\u001b[39mdata\n\u001b[1;32m     14\u001b[0m     known_fields \u001b[38;5;241m=\u001b[39m \u001b[38;5;28mset\u001b[39m(\u001b[38;5;28mcls\u001b[39m\u001b[38;5;241m.\u001b[39mmodel_fields\u001b[38;5;241m.\u001b[39mkeys())\n",
      "\u001b[0;31mTypeError\u001b[0m: field_validator() got an unexpected keyword argument 'pre'"
     ]
    }
   ],
   "source": [
    "from pydantic import BaseModel, ValidationError, field_validator, ConfigDict\n",
    "from pydantic import BaseModel, ValidationError, field_validator, ConfigDict\n",
    "from difflib import get_close_matches\n",
    "\n",
    "class MyModel(BaseModel):\n",
    "    model_config = ConfigDict(extra='forbid')\n",
    "\n",
    "    name: str\n",
    "    age: int\n",
    "    country: str\n",
    "\n",
    "    @field_validator('*', pre=True, allow_reuse=True)\n",
    "    def suggest_fields(cls, v, info):\n",
    "        values = info.data\n",
    "        known_fields = set(cls.model_fields.keys())\n",
    "        provided_keys = set(values.keys())\n",
    "        unknown_fields = provided_keys - known_fields\n",
    "\n",
    "        for field in unknown_fields:\n",
    "            suggestions = get_close_matches(field, known_fields, n=3, cutoff=0.0)\n",
    "            error_msg = f\"Unknown field '{field}'.\" + (f\" Did you mean: {', '.join(suggestions)}?\" if suggestions else \"\")\n",
    "            raise ValidationError([{\n",
    "                'loc': (field,),\n",
    "                'msg': error_msg,\n",
    "                'type': 'value_error.unknown'\n",
    "            }], model=cls)\n",
    "\n",
    "        return v\n",
    "\n",
    "# Example usage\n",
    "try:\n",
    "    MyModel(nme=\"Alice\", age=30, contry=\"Wonderland\")\n",
    "except ValidationError as e:\n",
    "    print(e)\n",
    "class MyModel(BaseModel):\n",
    "    model_config = ConfigDict(extra='forbid')\n",
    "\n",
    "    name: str\n",
    "    age: int\n",
    "    country: str\n",
    "\n",
    "    @field_validator('*', pre=True, allow_reuse=True)\n",
    "    def suggest_fields(cls, v, info):\n",
    "        values = info.data\n",
    "        known_fields = set(cls.model_fields.keys())\n",
    "        provided_keys = set(values.keys())\n",
    "        unknown_fields = provided_keys - known_fields\n",
    "\n",
    "        for field in unknown_fields:\n",
    "            suggestions = get_close_matches(field, known_fields, n=3, cutoff=0.0)\n",
    "            error_msg = f\"Unknown field '{field}'.\" + (f\" Did you mean: {', '.join(suggestions)}?\" if suggestions else \"\")\n",
    "            raise ValidationError([{\n",
    "                'loc': (field,),\n",
    "                'msg': error_msg,\n",
    "                'type': 'value_error.unknown'\n",
    "            }], model=cls)\n",
    "\n",
    "        return v\n",
    "\n",
    "# Example usage\n",
    "try:\n",
    "    MyModel(nme=\"Alice\", age=30, contry=\"Wonderland\")\n",
    "except ValidationError as e:\n",
    "    print(e)"
   ]
  },
  {
   "cell_type": "code",
   "execution_count": 8,
   "metadata": {},
   "outputs": [
    {
     "data": {
      "text/plain": [
       "['apple']"
      ]
     },
     "execution_count": 8,
     "metadata": {},
     "output_type": "execute_result"
    }
   ],
   "source": [
    "import difflib\n",
    "difflib.get_close_matches('appel', ['ape', 'apple', 'peach', 'puppy'],n=3,cutoff=0.8)"
   ]
  },
  {
   "cell_type": "code",
   "execution_count": null,
   "metadata": {},
   "outputs": [],
   "source": []
  }
 ],
 "metadata": {
  "kernelspec": {
   "display_name": "ml-tutorials",
   "language": "python",
   "name": "python3"
  },
  "language_info": {
   "codemirror_mode": {
    "name": "ipython",
    "version": 3
   },
   "file_extension": ".py",
   "mimetype": "text/x-python",
   "name": "python",
   "nbconvert_exporter": "python",
   "pygments_lexer": "ipython3",
   "version": "3.12.2"
  }
 },
 "nbformat": 4,
 "nbformat_minor": 2
}
