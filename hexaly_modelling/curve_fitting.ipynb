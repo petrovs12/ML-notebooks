{
 "cells": [
  {
   "cell_type": "code",
   "execution_count": 1,
   "metadata": {},
   "outputs": [
    {
     "name": "stdout",
     "output_type": "stream",
     "text": [
      "Looking in indexes: https://pip.hexaly.com\n",
      "Collecting hexaly\n",
      "  Using cached https://pip.hexaly.com/hexaly/hexaly-13.5.20250212-py2.py3.py27.py36.py37.py38.py39.py310.py311.py312.py313.py314-none-macosx_11_0_arm64.whl (10.1 MB)\n",
      "Installing collected packages: hexaly\n",
      "Successfully installed hexaly-13.5.20250212\n"
     ]
    }
   ],
   "source": [
    "!pip install hexaly -i https://pip.hexaly.com \n"
   ]
  },
  {
   "cell_type": "code",
   "execution_count": null,
   "metadata": {},
   "outputs": [
    {
     "name": "stdout",
     "output_type": "stream",
     "text": [
      "Preprocess model 17%\u001b[2K"
     ]
    },
    {
     "name": "stdout",
     "output_type": "stream",
     "text": [
      "Push initial solution 100%\u001b[2K\n",
      "\u001b[1m\u001b[4mModel\u001b[0m:  expressions = 25, decisions = 2, constraints = 0, objectives = 1\n",
      "\u001b[1m\u001b[4mParam\u001b[0m:  time limit = 6 sec, no iteration limit\n",
      "\n",
      "[objective direction ]:     minimize\n",
      "\n",
      "[  0 sec,       0 itr]:      55.6021\n",
      "[ optimality gap     ]:       99.28%\n",
      "[  0 sec,      27 itr]:     0.397968\n",
      "[ optimality gap     ]:      < 0.01%\n",
      "\n",
      "27 iterations performed in 0 seconds\n",
      "\n",
      "\u001b[1m\u001b[36mOptimal solution: \u001b[0m\n",
      "  obj    =     0.397968\n",
      "  gap    =      < 0.01%\n",
      "  bounds =     0.397887\n",
      "x1=3.145685\n",
      "x2=2.272416\n"
     ]
    }
   ],
   "source": [
    "import hexaly.optimizer\n",
    "import sys\n",
    "\n",
    "with hexaly.optimizer.HexalyOptimizer() as optimizer:\n",
    "    # Parameters of the function\n",
    "    PI = 3.14159265359\n",
    "    a = 1\n",
    "    b = 5.1 / (4 * pow(PI, 2))\n",
    "    c = 5 / PI\n",
    "    r = 6\n",
    "    s = 10\n",
    "    t = 1 / (8 * PI)\n",
    "\n",
    "    #\n",
    "    # Declare the optimization model\n",
    "    #\n",
    "    model = optimizer.model\n",
    "\n",
    "    # Numerical decisions\n",
    "    x1 = model.float(-5.0, 10.0)\n",
    "    x2 = model.float(0.0, 15.0)\n",
    "\n",
    "    # f = a(x2 - b*x1^2 + c*x1 - r)^2 + s(1-t)cos(x1) + s\n",
    "    f = a * (x2 - b * x1 ** 2 + c * x1 - r) ** 2 + s * (1 - t) * model.cos(x1) + s\n",
    "\n",
    "    # Minimize f\n",
    "    model.minimize(f)\n",
    "\n",
    "    model.close()\n",
    "\n",
    "    # Parameterize the optimizer\n",
    "    if len(sys.argv) >= 3:\n",
    "        optimizer.param.time_limit = int(sys.argv[2])\n",
    "    else:\n",
    "        optimizer.param.time_limit = 6\n",
    "\n",
    "    optimizer.solve()\n",
    "\n",
    "    #\n",
    "    # Write the solution in a file\n",
    "    #\n",
    "    # if len(sys.argv) >= 2:\n",
    "    with open('hexaly_example', 'w') as f:\n",
    "        f.write(\"x1=%f\\n\" % x1.value)\n",
    "        f.write(\"x2=%f\\n\" % x2.value)\n",
    "    print('x1=%f' % x1.value)\n",
    "    print('x2=%f' % x2.value)\n",
    "    "
   ]
  },
  {
   "cell_type": "code",
   "execution_count": null,
   "metadata": {},
   "outputs": [],
   "source": []
  }
 ],
 "metadata": {
  "kernelspec": {
   "display_name": "ml-tutorials",
   "language": "python",
   "name": "python3"
  },
  "language_info": {
   "codemirror_mode": {
    "name": "ipython",
    "version": 3
   },
   "file_extension": ".py",
   "mimetype": "text/x-python",
   "name": "python",
   "nbconvert_exporter": "python",
   "pygments_lexer": "ipython3",
   "version": "3.12.2"
  }
 },
 "nbformat": 4,
 "nbformat_minor": 2
}
