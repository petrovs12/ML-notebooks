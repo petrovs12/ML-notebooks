{
 "cells": [
  {
   "cell_type": "code",
   "execution_count": 12,
   "metadata": {},
   "outputs": [],
   "source": [
    "import dspy\n",
    "import os\n",
    "from typing import Literal\n",
    "\n",
    "# Define the classification signature\n",
    "class DeepScaler(dspy.Signature):\n",
    "    \"\"\"Classify text for scaling-related content.\"\"\"\n",
    "    text = dspy.InputField()\n",
    "    category:Literal['architecture', 'performance', 'capacity', 'reliability', 'unknown'] = dspy.OutputField(desc=\"One of: architecture, performance, capacity, reliability, unknown\")\n",
    "    confidence:float = dspy.OutputField(desc=\"confidence score between 0 and 1\")\n",
    "    key_points = dspy.OutputField(desc=\"key\")\n",
    "\n",
    "import dspy\n",
    "lm = dspy.LM('ollama_chat/rouge/calme-7b-instruct', api_base='http://localhost:11434', api_key='')\n",
    "lm = dspy.LM('ollama_chat/deepscaler', api_base='http://localhost:11434', api_key='')\n",
    "dspy.configure(lm=lm)\n",
    "\n",
    "# Configure DSPy with the model\n",
    "# dspy.settings.configure(lm=lm)\n",
    "\n",
    "\n",
    "# Create the classifier\n",
    "classifier = dspy.Predict(DeepScaler)\n",
    "\n",
    "\n",
    "# Example usage function\n",
    "\n",
    "def classify_scaling_text(text: str) -> dict:\n",
    "    if not text or len(str(text).strip()) < 50:\n",
    "        return {\n",
    "            \"category\": \"unknown\",\n",
    "            \n",
    "            \"confidence\": 0.0,\n",
    "            \"key_points\": []\n",
    "        }\n",
    "    \n",
    "    try:\n",
    "        response = classifier(text=text)\n",
    "        return {\n",
    "            \"category\": response.category,\n",
    "\n",
    "\n",
    "            \"confidence\": response.confidence,\n",
    "            \"key_points\": response.key_points\n",
    "        }\n",
    "    except Exception as e:\n",
    "        print(f\"Classification error: {str(e)}\")\n",
    "        return {\n",
    "            \"category\": \"error\",\n",
    "            \"confidence\": 0.0,\n",
    "            \"key_points\": []\n",
    "        }\n"
   ]
  },
  {
   "cell_type": "code",
   "execution_count": 15,
   "metadata": {},
   "outputs": [
    {
     "data": {
      "text/plain": [
       "{'category': 'performance',\n",
       " 'confidence': 0.95,\n",
       " 'key_points': 'i love distributed systems, i love distributed file systems, hadoop, and i think they are the best, and i especially love how they scale!!'}"
      ]
     },
     "execution_count": 15,
     "metadata": {},
     "output_type": "execute_result"
    }
   ],
   "source": [
    "classify_scaling_text('i love distributed systems, i love distributed file systems, hadoop,and i think they are the best, and i especially love how they scale!!')\n",
    "\n",
    "\n"
   ]
  },
  {
   "cell_type": "code",
   "execution_count": null,
   "metadata": {},
   "outputs": [],
   "source": []
  },
  {
   "cell_type": "code",
   "execution_count": null,
   "metadata": {},
   "outputs": [],
   "source": []
  }
 ],
 "metadata": {
  "kernelspec": {
   "display_name": "ml-tutorials",
   "language": "python",
   "name": "python3"
  },
  "language_info": {
   "codemirror_mode": {
    "name": "ipython",
    "version": 3
   },
   "file_extension": ".py",
   "mimetype": "text/x-python",
   "name": "python",
   "nbconvert_exporter": "python",
   "pygments_lexer": "ipython3",
   "version": "3.12.2"
  }
 },
 "nbformat": 4,
 "nbformat_minor": 2
}
