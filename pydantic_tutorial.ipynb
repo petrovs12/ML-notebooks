{
 "cells": [
  {
   "cell_type": "code",
   "execution_count": 6,
   "metadata": {},
   "outputs": [
    {
     "name": "stdout",
     "output_type": "stream",
     "text": [
      "Requirement already satisfied: pydantic[email] in /opt/homebrew/anaconda3/envs/ml-tutorials/lib/python3.12/site-packages (2.10.4)\n",
      "Requirement already satisfied: annotated-types>=0.6.0 in /opt/homebrew/anaconda3/envs/ml-tutorials/lib/python3.12/site-packages (from pydantic[email]) (0.7.0)\n",
      "Requirement already satisfied: pydantic-core==2.27.2 in /opt/homebrew/anaconda3/envs/ml-tutorials/lib/python3.12/site-packages (from pydantic[email]) (2.27.2)\n",
      "Requirement already satisfied: typing-extensions>=4.12.2 in /opt/homebrew/anaconda3/envs/ml-tutorials/lib/python3.12/site-packages (from pydantic[email]) (4.12.2)\n",
      "Collecting email-validator>=2.0.0 (from pydantic[email])\n",
      "  Downloading email_validator-2.2.0-py3-none-any.whl.metadata (25 kB)\n",
      "Collecting dnspython>=2.0.0 (from email-validator>=2.0.0->pydantic[email])\n",
      "  Downloading dnspython-2.7.0-py3-none-any.whl.metadata (5.8 kB)\n",
      "Requirement already satisfied: idna>=2.0.0 in /opt/homebrew/anaconda3/envs/ml-tutorials/lib/python3.12/site-packages (from email-validator>=2.0.0->pydantic[email]) (3.10)\n",
      "Downloading email_validator-2.2.0-py3-none-any.whl (33 kB)\n",
      "Downloading dnspython-2.7.0-py3-none-any.whl (313 kB)\n",
      "Installing collected packages: dnspython, email-validator\n",
      "Successfully installed dnspython-2.7.0 email-validator-2.2.0\n"
     ]
    }
   ],
   "source": [
    "# Install Pydantic if you haven't already\n",
    "# !pip install pydantic]\n",
    "!pip install 'pydantic[email]'\n",
    "\n"
   ]
  },
  {
   "cell_type": "code",
   "execution_count": 9,
   "metadata": {},
   "outputs": [
    {
     "name": "stdout",
     "output_type": "stream",
     "text": [
      "Valid user: name='Alice' email='alice@example.com' age=30\n",
      "\n",
      "Validation errors:\n",
      "2 validation errors for User\n",
      "email\n",
      "  value is not a valid email address: An email address must have an @-sign. [type=value_error, input_value='not-an-email', input_type=str]\n",
      "age\n",
      "  Input should be greater than 0 [type=greater_than, input_value=-1, input_type=int]\n",
      "    For further information visit https://errors.pydantic.dev/2.10/v/greater_than\n"
     ]
    }
   ],
   "source": [
    "\n",
    "from pydantic import BaseModel, Field, EmailStr, ValidationError\n",
    "\n",
    "# Define a simple data model\n",
    "class User(BaseModel):\n",
    "    name: str\n",
    "    email: EmailStr\n",
    "    age: int = Field(..., gt=0)  # Must be greater than 0\n",
    "\n",
    "# Create a valid instance\n",
    "user = User(name=\"Alice\", email=\"alice@example.com\", age=30)\n",
    "print(\"Valid user:\", user)\n",
    "\n",
    "# Demonstrate error handling by passing invalid data\n",
    "try:\n",
    "    invalid_user = User(name=\"Bob\", email=\"not-an-email\", age=-1)\n",
    "except ValidationError as e:\n",
    "    print(\"\\nValidation errors:\")\n",
    "    print(e)"
   ]
  },
  {
   "cell_type": "code",
   "execution_count": null,
   "metadata": {},
   "outputs": [],
   "source": []
  }
 ],
 "metadata": {
  "kernelspec": {
   "display_name": "ml-tutorials",
   "language": "python",
   "name": "python3"
  },
  "language_info": {
   "codemirror_mode": {
    "name": "ipython",
    "version": 3
   },
   "file_extension": ".py",
   "mimetype": "text/x-python",
   "name": "python",
   "nbconvert_exporter": "python",
   "pygments_lexer": "ipython3",
   "version": "3.12.2"
  }
 },
 "nbformat": 4,
 "nbformat_minor": 2
}
