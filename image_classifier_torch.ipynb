{
 "cells": [
  {
   "cell_type": "code",
   "execution_count": 2,
   "metadata": {},
   "outputs": [],
   "source": [
    "import torch\n",
    "import torch.nn as nn\n",
    "import torch.nn.functional as F\n",
    "\n",
    "import torchvision\n",
    "import torchvision.transforms as transforms\n",
    "\n",
    "\n"
   ]
  },
  {
   "cell_type": "code",
   "execution_count": 3,
   "metadata": {},
   "outputs": [
    {
     "name": "stdout",
     "output_type": "stream",
     "text": [
      "Files already downloaded and verified\n",
      "Files already downloaded and verified\n"
     ]
    },
    {
     "data": {
      "image/png": "[encoded data removed]",
      "text/plain": [
       "<Figure size 640x480 with 1 Axes>"
      ]
     },
     "metadata": {},
     "output_type": "display_data"
    },
    {
     "name": "stdout",
     "output_type": "stream",
     "text": [
      "ship  ship  bird  ship \n"
     ]
    }
   ],
   "source": [
    "\n",
    "transform = transforms.Compose(\n",
    "    [transforms.ToTensor(),\n",
    "     transforms.Normalize((0.5, 0.5, 0.5), (0.5, 0.5, 0.5))])\n",
    "\n",
    "batch_size = 4\n",
    "\n",
    "trainset = torchvision.datasets.CIFAR10(root='./data', train=True,\n",
    "                                        download=True, transform=transform)\n",
    "trainloader = torch.utils.data.DataLoader(trainset, batch_size=batch_size,\n",
    "                                          shuffle=True, num_workers=2)\n",
    "\n",
    "testset = torchvision.datasets.CIFAR10(root='./data', train=False,\n",
    "                                       download=True, transform=transform)\n",
    "testloader = torch.utils.data.DataLoader(testset, batch_size=batch_size,\n",
    "                                         shuffle=False, num_workers=2)\n",
    "\n",
    "classes = ('plane', 'car', 'bird', 'cat',\n",
    "           'deer', 'dog', 'frog', 'horse', 'ship', 'truck')\n",
    "\n",
    "\n",
    "import matplotlib.pyplot as plt\n",
    "import numpy as np\n",
    "\n",
    "# functions to show an image\n",
    "\n",
    "\n",
    "def imshow(img):\n",
    "    img = img / 2 + 0.5     # unnormalize\n",
    "    npimg = img.numpy()\n",
    "    plt.imshow(np.transpose(npimg, (1, 2, 0)))\n",
    "    plt.show()\n",
    "\n",
    "\n",
    "# get some random training images\n",
    "dataiter = iter(trainloader)\n",
    "images, labels = next(dataiter)\n",
    "\n",
    "# show images\n",
    "imshow(torchvision.utils.make_grid(images))\n",
    "# print labels\n",
    "print(' '.join(f'{classes[labels[j]]:5s}' for j in range(batch_size)))"
   ]
  },
  {
   "cell_type": "code",
   "execution_count": 4,
   "metadata": {},
   "outputs": [
    {
     "data": {
      "text/plain": [
       "torch.Size([3, 32, 32])"
      ]
     },
     "execution_count": 4,
     "metadata": {},
     "output_type": "execute_result"
    }
   ],
   "source": [
    "images.shape[1:]"
   ]
  },
  {
   "cell_type": "code",
   "execution_count": null,
   "metadata": {},
   "outputs": [],
   "source": []
  },
  {
   "cell_type": "code",
   "execution_count": 5,
   "metadata": {},
   "outputs": [
    {
     "name": "stdout",
     "output_type": "stream",
     "text": [
      "device=device(type='mps')\n"
     ]
    }
   ],
   "source": [
    "\n",
    "\n",
    "# Device configuration\n",
    "device = torch.device(\"mps\" if torch.backends.mps.is_available() else \"cuda\" if torch.cuda.is_available() else \"cpu\")\n",
    "print(f\"{device=}\")\n",
    "class SimpleImageClassifier(nn.Module):\n",
    "    def __init__(self, num_classes=10):\n",
    "        super(SimpleImageClassifier, self).__init__()\n",
    "        self.conv1 = nn.Conv2d(3, 6, 5)\n",
    "        self.pool = nn.MaxPool2d(2, 2)\n",
    "        self.conv2 = nn.Conv2d(6, 16, 5)\n",
    "        self.fc1 = nn.LazyLinear( 120)\n",
    "        self.fc2 = nn.LazyLinear( 84)\n",
    "        self.fc3 = nn.LazyLinear(10)\n",
    "\n",
    "\n",
    "    def forward(self, x):\n",
    "        x=self.pool(F.relu(self.conv1(x)))\n",
    "        x=self.pool(F.relu(self.conv2(x)))\n",
    "        x=torch.flatten(x,1)\n",
    "        x=F.relu(self.fc1(x))\n",
    "        x=F.relu(self.fc2(x))\n",
    "        x=self.fc3(x)\n",
    "        return x\n",
    "net = SimpleImageClassifier()\n",
    "# net.to(device)"
   ]
  },
  {
   "cell_type": "code",
   "execution_count": 6,
   "metadata": {},
   "outputs": [
    {
     "data": {
      "text/plain": [
       "tensor([[-0.0929, -0.0057, -0.0389,  0.0332, -0.0151, -0.0620,  0.0242,  0.0160,\n",
       "          0.0135, -0.0224],\n",
       "        [-0.0855, -0.0075, -0.0282,  0.0269, -0.0244, -0.0495,  0.0284,  0.0216,\n",
       "          0.0136, -0.0330],\n",
       "        [-0.0829, -0.0055, -0.0414,  0.0406, -0.0100, -0.0456,  0.0209,  0.0253,\n",
       "          0.0094, -0.0355],\n",
       "        [-0.0818, -0.0050, -0.0444,  0.0360, -0.0224, -0.0443,  0.0281,  0.0255,\n",
       "          0.0192, -0.0203]], grad_fn=<AddmmBackward0>)"
      ]
     },
     "execution_count": 6,
     "metadata": {},
     "output_type": "execute_result"
    }
   ],
   "source": [
    "SimpleImageClassifier().forward(images)"
   ]
  },
  {
   "cell_type": "code",
   "execution_count": 7,
   "metadata": {},
   "outputs": [],
   "source": [
    "rangomImage= torch.rand(1,3,32,32)"
   ]
  },
  {
   "cell_type": "code",
   "execution_count": 8,
   "metadata": {},
   "outputs": [],
   "source": [
    "import torch.optim as optim\n",
    "\n",
    "criterion = nn.CrossEntropyLoss()\n",
    "optimizer = optim.SGD(net.parameters(), lr=0.001, momentum=0.9)"
   ]
  },
  {
   "cell_type": "code",
   "execution_count": null,
   "metadata": {},
   "outputs": [],
   "source": []
  },
  {
   "cell_type": "code",
   "execution_count": 10,
   "metadata": {},
   "outputs": [
    {
     "name": "stdout",
     "output_type": "stream",
     "text": [
      "epoch=0\n",
      "[1,  2000] loss: 0.721\n",
      "[1,  4000] loss: 0.752\n",
      "[1,  6000] loss: 0.787\n",
      "[1,  8000] loss: 0.805\n",
      "[1, 10000] loss: 0.837\n",
      "[1, 12000] loss: 0.831\n",
      "epoch=1\n",
      "[2,  2000] loss: 0.716\n",
      "[2,  4000] loss: 0.718\n",
      "[2,  6000] loss: 0.743\n",
      "[2,  8000] loss: 0.776\n",
      "[2, 10000] loss: 0.811\n",
      "[2, 12000] loss: 0.814\n",
      "epoch=2\n",
      "[3,  2000] loss: 0.691\n",
      "[3,  4000] loss: 0.715\n",
      "[3,  6000] loss: 0.749\n",
      "[3,  8000] loss: 0.728\n",
      "[3, 10000] loss: 0.753\n",
      "[3, 12000] loss: 0.802\n",
      "epoch=3\n",
      "[4,  2000] loss: 0.667\n",
      "[4,  4000] loss: 0.686\n",
      "[4,  6000] loss: 0.716\n",
      "[4,  8000] loss: 0.740\n",
      "[4, 10000] loss: 0.747\n",
      "[4, 12000] loss: 0.775\n",
      "epoch=4\n",
      "[5,  2000] loss: 0.628\n",
      "[5,  4000] loss: 0.678\n",
      "[5,  6000] loss: 0.714\n",
      "[5,  8000] loss: 0.718\n",
      "[5, 10000] loss: 0.738\n",
      "[5, 12000] loss: 0.750\n",
      "epoch=5\n",
      "[6,  2000] loss: 0.619\n",
      "[6,  4000] loss: 0.646\n",
      "[6,  6000] loss: 0.695\n",
      "[6,  8000] loss: 0.700\n",
      "[6, 10000] loss: 0.744\n",
      "[6, 12000] loss: 0.738\n",
      "epoch=6\n",
      "[7,  2000] loss: 0.612\n",
      "[7,  4000] loss: 0.641\n",
      "[7,  6000] loss: 0.662\n",
      "[7,  8000] loss: 0.689\n",
      "[7, 10000] loss: 0.737\n",
      "[7, 12000] loss: 0.732\n",
      "epoch=7\n",
      "[8,  2000] loss: 0.618\n",
      "[8,  4000] loss: 0.634\n",
      "[8,  6000] loss: 0.663\n",
      "[8,  8000] loss: 0.687\n",
      "[8, 10000] loss: 0.702\n",
      "[8, 12000] loss: 0.718\n",
      "epoch=8\n",
      "[9,  2000] loss: 0.591\n",
      "[9,  4000] loss: 0.624\n",
      "[9,  6000] loss: 0.646\n",
      "[9,  8000] loss: 0.696\n",
      "[9, 10000] loss: 0.682\n",
      "[9, 12000] loss: 0.712\n",
      "epoch=9\n",
      "[10,  2000] loss: 0.588\n",
      "[10,  4000] loss: 0.659\n",
      "[10,  6000] loss: 0.633\n",
      "[10,  8000] loss: 0.665\n",
      "[10, 10000] loss: 0.688\n",
      "[10, 12000] loss: 0.682\n"
     ]
    }
   ],
   "source": [
    "for epoch in range(10):\n",
    "    print(f\"{epoch=}\")\n",
    "    running_loss = 0.0\n",
    "    for i, data in enumerate(trainloader, 0):\n",
    "        inputs, labels = data\n",
    "        optimizer.zero_grad()\n",
    "        outputs = net(inputs)\n",
    "        loss = criterion(outputs, labels)\n",
    "        loss.backward()\n",
    "        optimizer.step()\n",
    "        running_loss += loss.item()\n",
    "        if i % 2000 == 1999:\n",
    "            print(f'[{epoch + 1}, {i + 1:5d}] loss: {running_loss / 2000:.3f}')\n",
    "            running_loss = 0.0"
   ]
  },
  {
   "cell_type": "code",
   "execution_count": 11,
   "metadata": {},
   "outputs": [
    {
     "data": {
      "image/png": "[encoded data removed]",
      "text/plain": [
       "<Figure size 640x480 with 1 Axes>"
      ]
     },
     "metadata": {},
     "output_type": "display_data"
    },
    {
     "name": "stdout",
     "output_type": "stream",
     "text": [
      "GroundTruth:  cat   ship  ship  plane\n"
     ]
    }
   ],
   "source": [
    "dataiter = iter(testloader)\n",
    "images, labels = next(dataiter)\n",
    "\n",
    "# print images\n",
    "imshow(torchvision.utils.make_grid(images))\n",
    "print('GroundTruth: ', ' '.join(f'{classes[labels[j]]:5s}' for j in range(4)))"
   ]
  },
  {
   "cell_type": "code",
   "execution_count": null,
   "metadata": {},
   "outputs": [],
   "source": []
  },
  {
   "cell_type": "code",
   "execution_count": null,
   "metadata": {},
   "outputs": [],
   "source": []
  }
 ],
 "metadata": {
  "kernelspec": {
   "display_name": "ml-tutorials",
   "language": "python",
   "name": "python3"
  },
  "language_info": {
   "codemirror_mode": {
    "name": "ipython",
    "version": 3
   },
   "file_extension": ".py",
   "mimetype": "text/x-python",
   "name": "python",
   "nbconvert_exporter": "python",
   "pygments_lexer": "ipython3",
   "version": "3.12.2"
  }
 },
 "nbformat": 4,
 "nbformat_minor": 2
}
