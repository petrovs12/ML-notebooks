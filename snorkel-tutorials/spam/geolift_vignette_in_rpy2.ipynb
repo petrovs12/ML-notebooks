{
 "cells": [
  {
   "cell_type": "code",
   "execution_count": 1,
   "metadata": {},
   "outputs": [
    {
     "name": "stdout",
     "output_type": "stream",
     "text": [
      "Collecting rpy2[all]\n",
      "  Downloading rpy2-3.5.17.tar.gz (220 kB)\n",
      "  Installing build dependencies ... \u001b[?25ldone\n",
      "\u001b[?25h  Getting requirements to build wheel ... \u001b[?25ldone\n",
      "\u001b[?25h  Preparing metadata (pyproject.toml) ... \u001b[?25ldone\n",
      "\u001b[?25hRequirement already satisfied: cffi>=1.15.1 in /opt/homebrew/anaconda3/envs/ml-tutorials/lib/python3.12/site-packages (from rpy2[all]) (1.17.1)\n",
      "Requirement already satisfied: jinja2 in /opt/homebrew/anaconda3/envs/ml-tutorials/lib/python3.12/site-packages (from rpy2[all]) (3.1.4)\n",
      "Collecting tzlocal (from rpy2[all])\n",
      "  Using cached tzlocal-5.2-py3-none-any.whl.metadata (7.8 kB)\n",
      "Collecting pytest (from rpy2[all])\n",
      "  Downloading pytest-8.3.4-py3-none-any.whl.metadata (7.5 kB)\n",
      "Requirement already satisfied: ipython in /opt/homebrew/anaconda3/envs/ml-tutorials/lib/python3.12/site-packages (from rpy2[all]) (8.30.0)\n",
      "Requirement already satisfied: numpy>=1.26 in /opt/homebrew/anaconda3/envs/ml-tutorials/lib/python3.12/site-packages (from rpy2[all]) (1.26.4)\n",
      "Requirement already satisfied: pandas>=1.3.5 in /opt/homebrew/anaconda3/envs/ml-tutorials/lib/python3.12/site-packages (from rpy2[all]) (2.2.3)\n",
      "Requirement already satisfied: pycparser in /opt/homebrew/anaconda3/envs/ml-tutorials/lib/python3.12/site-packages (from cffi>=1.15.1->rpy2[all]) (2.22)\n",
      "Requirement already satisfied: python-dateutil>=2.8.2 in /opt/homebrew/anaconda3/envs/ml-tutorials/lib/python3.12/site-packages (from pandas>=1.3.5->rpy2[all]) (2.9.0.post0)\n",
      "Requirement already satisfied: pytz>=2020.1 in /opt/homebrew/anaconda3/envs/ml-tutorials/lib/python3.12/site-packages (from pandas>=1.3.5->rpy2[all]) (2024.1)\n",
      "Requirement already satisfied: tzdata>=2022.7 in /opt/homebrew/anaconda3/envs/ml-tutorials/lib/python3.12/site-packages (from pandas>=1.3.5->rpy2[all]) (2023.3)\n",
      "Requirement already satisfied: decorator in /opt/homebrew/anaconda3/envs/ml-tutorials/lib/python3.12/site-packages (from ipython->rpy2[all]) (5.1.1)\n",
      "Requirement already satisfied: jedi>=0.16 in /opt/homebrew/anaconda3/envs/ml-tutorials/lib/python3.12/site-packages (from ipython->rpy2[all]) (0.19.2)\n",
      "Requirement already satisfied: matplotlib-inline in /opt/homebrew/anaconda3/envs/ml-tutorials/lib/python3.12/site-packages (from ipython->rpy2[all]) (0.1.7)\n",
      "Requirement already satisfied: pexpect>4.3 in /opt/homebrew/anaconda3/envs/ml-tutorials/lib/python3.12/site-packages (from ipython->rpy2[all]) (4.9.0)\n",
      "Requirement already satisfied: prompt_toolkit<3.1.0,>=3.0.41 in /opt/homebrew/anaconda3/envs/ml-tutorials/lib/python3.12/site-packages (from ipython->rpy2[all]) (3.0.48)\n",
      "Requirement already satisfied: pygments>=2.4.0 in /opt/homebrew/anaconda3/envs/ml-tutorials/lib/python3.12/site-packages (from ipython->rpy2[all]) (2.18.0)\n",
      "Requirement already satisfied: stack_data in /opt/homebrew/anaconda3/envs/ml-tutorials/lib/python3.12/site-packages (from ipython->rpy2[all]) (0.6.3)\n",
      "Requirement already satisfied: traitlets>=5.13.0 in /opt/homebrew/anaconda3/envs/ml-tutorials/lib/python3.12/site-packages (from ipython->rpy2[all]) (5.14.3)\n",
      "Requirement already satisfied: MarkupSafe>=2.0 in /opt/homebrew/anaconda3/envs/ml-tutorials/lib/python3.12/site-packages (from jinja2->rpy2[all]) (2.1.3)\n",
      "Collecting iniconfig (from pytest->rpy2[all])\n",
      "  Downloading iniconfig-2.0.0-py3-none-any.whl.metadata (2.6 kB)\n",
      "Requirement already satisfied: packaging in /opt/homebrew/anaconda3/envs/ml-tutorials/lib/python3.12/site-packages (from pytest->rpy2[all]) (24.2)\n",
      "Collecting pluggy<2,>=1.5 (from pytest->rpy2[all])\n",
      "  Downloading pluggy-1.5.0-py3-none-any.whl.metadata (4.8 kB)\n",
      "Requirement already satisfied: parso<0.9.0,>=0.8.4 in /opt/homebrew/anaconda3/envs/ml-tutorials/lib/python3.12/site-packages (from jedi>=0.16->ipython->rpy2[all]) (0.8.4)\n",
      "Requirement already satisfied: ptyprocess>=0.5 in /opt/homebrew/anaconda3/envs/ml-tutorials/lib/python3.12/site-packages (from pexpect>4.3->ipython->rpy2[all]) (0.7.0)\n",
      "Requirement already satisfied: wcwidth in /opt/homebrew/anaconda3/envs/ml-tutorials/lib/python3.12/site-packages (from prompt_toolkit<3.1.0,>=3.0.41->ipython->rpy2[all]) (0.2.13)\n",
      "Requirement already satisfied: six>=1.5 in /opt/homebrew/anaconda3/envs/ml-tutorials/lib/python3.12/site-packages (from python-dateutil>=2.8.2->pandas>=1.3.5->rpy2[all]) (1.17.0)\n",
      "Requirement already satisfied: executing>=1.2.0 in /opt/homebrew/anaconda3/envs/ml-tutorials/lib/python3.12/site-packages (from stack_data->ipython->rpy2[all]) (2.1.0)\n",
      "Requirement already satisfied: asttokens>=2.1.0 in /opt/homebrew/anaconda3/envs/ml-tutorials/lib/python3.12/site-packages (from stack_data->ipython->rpy2[all]) (3.0.0)\n",
      "Requirement already satisfied: pure_eval in /opt/homebrew/anaconda3/envs/ml-tutorials/lib/python3.12/site-packages (from stack_data->ipython->rpy2[all]) (0.2.3)\n",
      "Downloading pytest-8.3.4-py3-none-any.whl (343 kB)\n",
      "Using cached tzlocal-5.2-py3-none-any.whl (17 kB)\n",
      "Downloading pluggy-1.5.0-py3-none-any.whl (20 kB)\n",
      "Downloading iniconfig-2.0.0-py3-none-any.whl (5.9 kB)\n",
      "Building wheels for collected packages: rpy2\n",
      "  Building wheel for rpy2 (pyproject.toml) ... \u001b[?25ldone\n",
      "\u001b[?25h  Created wheel for rpy2: filename=rpy2-3.5.17-cp312-cp312-macosx_11_0_arm64.whl size=252712 sha256=2420448d8867a1c2587999f7ec0f02dba69dfacdbfc08193e587cdb83de688b9\n",
      "  Stored in directory: /Users/stefanpetrov/Library/Caches/pip/wheels/fb/3c/a8/5c2ab28ca010aa26f09174d6ac337141721ee764f7b17c0953\n",
      "Successfully built rpy2\n",
      "Installing collected packages: tzlocal, pluggy, iniconfig, rpy2, pytest\n",
      "Successfully installed iniconfig-2.0.0 pluggy-1.5.0 pytest-8.3.4 rpy2-3.5.17 tzlocal-5.2\n"
     ]
    }
   ],
   "source": [
    "!pip install 'rpy2[all]'\n",
    "\n",
    "\n"
   ]
  },
  {
   "cell_type": "code",
   "execution_count": 5,
   "metadata": {},
   "outputs": [],
   "source": [
    "import rpy2\n",
    "import rpy2.robjects as robjects\n",
    "from rpy2.robjects.packages import importr\n",
    "from rpy2.robjects import r, pandas2ri\n",
    "from rpy2.robjects.conversion import localconverter\n",
    "import pandas as pd\n",
    "import numpy as np\n",
    "# from rpy2.rinterface import\n",
    "\n",
    "from rpy2.robjects.packages import importr\n",
    "\n"
   ]
  },
  {
   "cell_type": "code",
   "execution_count": 7,
   "metadata": {},
   "outputs": [
    {
     "ename": "NotImplementedError",
     "evalue": "\n    Conversion rules for `rpy2.robjects` appear to be missing. Those\n    rules are in a Python `contextvars.ContextVar`. This could be caused\n    by multithreading code not passing context to the thread.\n    Check rpy2's documentation about conversions.\n    ",
     "output_type": "error",
     "traceback": [
      "\u001b[0;31m---------------------------------------------------------------------------\u001b[0m",
      "\u001b[0;31mNotImplementedError\u001b[0m                       Traceback (most recent call last)",
      "Cell \u001b[0;32mIn[7], line 1\u001b[0m\n\u001b[0;32m----> 1\u001b[0m \u001b[43mimportr\u001b[49m\u001b[43m(\u001b[49m\u001b[38;5;124;43m'\u001b[39;49m\u001b[38;5;124;43mbase\u001b[39;49m\u001b[38;5;124;43m'\u001b[39;49m\u001b[43m)\u001b[49m\n",
      "File \u001b[0;32m/opt/homebrew/anaconda3/envs/ml-tutorials/lib/python3.12/site-packages/rpy2/robjects/packages.py:496\u001b[0m, in \u001b[0;36mimportr\u001b[0;34m(name, lib_loc, robject_translations, signature_translation, suppress_messages, on_conflict, symbol_r2python, symbol_resolve, data)\u001b[0m\n\u001b[1;32m    494\u001b[0m pack: typing\u001b[38;5;241m.\u001b[39mUnion[InstalledSTPackage, InstalledPackage]\n\u001b[1;32m    495\u001b[0m \u001b[38;5;28;01mif\u001b[39;00m signature_translation:\n\u001b[0;32m--> 496\u001b[0m     pack \u001b[38;5;241m=\u001b[39m \u001b[43mInstalledSTPackage\u001b[49m\u001b[43m(\u001b[49m\u001b[43menv\u001b[49m\u001b[43m,\u001b[49m\u001b[43m \u001b[49m\u001b[43mname\u001b[49m\u001b[43m,\u001b[49m\n\u001b[1;32m    497\u001b[0m \u001b[43m                              \u001b[49m\u001b[43mtranslation\u001b[49m\u001b[38;5;241;43m=\u001b[39;49m\u001b[43mrobject_translations\u001b[49m\u001b[43m,\u001b[49m\n\u001b[1;32m    498\u001b[0m \u001b[43m                              \u001b[49m\u001b[43mexported_names\u001b[49m\u001b[38;5;241;43m=\u001b[39;49m\u001b[43mexported_names\u001b[49m\u001b[43m,\u001b[49m\n\u001b[1;32m    499\u001b[0m \u001b[43m                              \u001b[49m\u001b[43mon_conflict\u001b[49m\u001b[38;5;241;43m=\u001b[39;49m\u001b[43mon_conflict\u001b[49m\u001b[43m,\u001b[49m\n\u001b[1;32m    500\u001b[0m \u001b[43m                              \u001b[49m\u001b[43mversion\u001b[49m\u001b[38;5;241;43m=\u001b[39;49m\u001b[43mversion\u001b[49m\u001b[43m,\u001b[49m\n\u001b[1;32m    501\u001b[0m \u001b[43m                              \u001b[49m\u001b[43msymbol_r2python\u001b[49m\u001b[38;5;241;43m=\u001b[39;49m\u001b[43msymbol_r2python\u001b[49m\u001b[43m,\u001b[49m\n\u001b[1;32m    502\u001b[0m \u001b[43m                              \u001b[49m\u001b[43msymbol_resolve\u001b[49m\u001b[38;5;241;43m=\u001b[39;49m\u001b[43msymbol_resolve\u001b[49m\u001b[43m)\u001b[49m\n\u001b[1;32m    503\u001b[0m \u001b[38;5;28;01melse\u001b[39;00m:\n\u001b[1;32m    504\u001b[0m     pack \u001b[38;5;241m=\u001b[39m InstalledPackage(env, name, translation\u001b[38;5;241m=\u001b[39mrobject_translations,\n\u001b[1;32m    505\u001b[0m                             exported_names\u001b[38;5;241m=\u001b[39mexported_names,\n\u001b[1;32m    506\u001b[0m                             on_conflict\u001b[38;5;241m=\u001b[39mon_conflict,\n\u001b[1;32m    507\u001b[0m                             version\u001b[38;5;241m=\u001b[39mversion,\n\u001b[1;32m    508\u001b[0m                             symbol_r2python\u001b[38;5;241m=\u001b[39msymbol_r2python,\n\u001b[1;32m    509\u001b[0m                             symbol_resolve\u001b[38;5;241m=\u001b[39msymbol_resolve)\n",
      "File \u001b[0;32m/opt/homebrew/anaconda3/envs/ml-tutorials/lib/python3.12/site-packages/rpy2/robjects/packages.py:203\u001b[0m, in \u001b[0;36mPackage.__init__\u001b[0;34m(self, env, name, translation, exported_names, on_conflict, version, symbol_r2python, symbol_resolve)\u001b[0m\n\u001b[1;32m    201\u001b[0m \u001b[38;5;28mself\u001b[39m\u001b[38;5;241m.\u001b[39m_symbol_r2python \u001b[38;5;241m=\u001b[39m symbol_r2python\n\u001b[1;32m    202\u001b[0m \u001b[38;5;28mself\u001b[39m\u001b[38;5;241m.\u001b[39m_symbol_resolve \u001b[38;5;241m=\u001b[39m symbol_resolve\n\u001b[0;32m--> 203\u001b[0m \u001b[38;5;28;43mself\u001b[39;49m\u001b[38;5;241;43m.\u001b[39;49m\u001b[43m__fill_rpy2r__\u001b[49m\u001b[43m(\u001b[49m\u001b[43mon_conflict\u001b[49m\u001b[38;5;241;43m=\u001b[39;49m\u001b[43mon_conflict\u001b[49m\u001b[43m)\u001b[49m\n\u001b[1;32m    204\u001b[0m \u001b[38;5;28mself\u001b[39m\u001b[38;5;241m.\u001b[39m_exported_names \u001b[38;5;241m=\u001b[39m \u001b[38;5;28mself\u001b[39m\u001b[38;5;241m.\u001b[39m_exported_names\u001b[38;5;241m.\u001b[39mdifference(mynames)\n\u001b[1;32m    205\u001b[0m \u001b[38;5;28mself\u001b[39m\u001b[38;5;241m.\u001b[39m__version__ \u001b[38;5;241m=\u001b[39m version\n",
      "File \u001b[0;32m/opt/homebrew/anaconda3/envs/ml-tutorials/lib/python3.12/site-packages/rpy2/robjects/packages.py:330\u001b[0m, in \u001b[0;36mInstalledSTPackage.__fill_rpy2r__\u001b[0;34m(self, on_conflict)\u001b[0m\n\u001b[1;32m    328\u001b[0m \u001b[38;5;28;01mdef\u001b[39;00m \u001b[38;5;21m__fill_rpy2r__\u001b[39m(\u001b[38;5;28mself\u001b[39m, on_conflict\u001b[38;5;241m=\u001b[39m\u001b[38;5;124m'\u001b[39m\u001b[38;5;124mfail\u001b[39m\u001b[38;5;124m'\u001b[39m):\n\u001b[1;32m    329\u001b[0m     (\u001b[38;5;28;43msuper\u001b[39;49m\u001b[43m(\u001b[49m\u001b[43mSignatureTranslatedPackage\u001b[49m\u001b[43m,\u001b[49m\u001b[43m \u001b[49m\u001b[38;5;28;43mself\u001b[39;49m\u001b[43m)\u001b[49m\n\u001b[0;32m--> 330\u001b[0m \u001b[43m     \u001b[49m\u001b[38;5;241;43m.\u001b[39;49m\u001b[43m__fill_rpy2r__\u001b[49m\u001b[43m(\u001b[49m\u001b[43mon_conflict\u001b[49m\u001b[38;5;241;43m=\u001b[39;49m\u001b[43mon_conflict\u001b[49m\u001b[43m)\u001b[49m)\n\u001b[1;32m    331\u001b[0m     \u001b[38;5;28;01mfor\u001b[39;00m name, robj \u001b[38;5;129;01min\u001b[39;00m \u001b[38;5;28mself\u001b[39m\u001b[38;5;241m.\u001b[39m\u001b[38;5;18m__dict__\u001b[39m\u001b[38;5;241m.\u001b[39mitems():\n\u001b[1;32m    332\u001b[0m         \u001b[38;5;28;01mif\u001b[39;00m \u001b[38;5;28misinstance\u001b[39m(robj, rinterface\u001b[38;5;241m.\u001b[39mSexp) \u001b[38;5;129;01mand\u001b[39;00m \\\n\u001b[1;32m    333\u001b[0m            robj\u001b[38;5;241m.\u001b[39mtypeof \u001b[38;5;241m==\u001b[39m rinterface\u001b[38;5;241m.\u001b[39mRTYPES\u001b[38;5;241m.\u001b[39mCLOSXP:\n",
      "File \u001b[0;32m/opt/homebrew/anaconda3/envs/ml-tutorials/lib/python3.12/site-packages/rpy2/robjects/packages.py:264\u001b[0m, in \u001b[0;36mPackage.__fill_rpy2r__\u001b[0;34m(self, on_conflict)\u001b[0m\n\u001b[1;32m    262\u001b[0m \u001b[38;5;28;01mexcept\u001b[39;00m rinterface\u001b[38;5;241m.\u001b[39membedded\u001b[38;5;241m.\u001b[39mRRuntimeError \u001b[38;5;28;01mas\u001b[39;00m rre:\n\u001b[1;32m    263\u001b[0m     warn(\u001b[38;5;28mstr\u001b[39m(rre))\n\u001b[0;32m--> 264\u001b[0m rpyobj \u001b[38;5;241m=\u001b[39m \u001b[43mcv\u001b[49m\u001b[38;5;241;43m.\u001b[39;49m\u001b[43mrpy2py\u001b[49m\u001b[43m(\u001b[49m\u001b[43mriobj\u001b[49m\u001b[43m)\u001b[49m\n\u001b[1;32m    265\u001b[0m \u001b[38;5;28;01mif\u001b[39;00m \u001b[38;5;28mhasattr\u001b[39m(rpyobj, \u001b[38;5;124m'\u001b[39m\u001b[38;5;124m__rname__\u001b[39m\u001b[38;5;124m'\u001b[39m):\n\u001b[1;32m    266\u001b[0m     rpyobj\u001b[38;5;241m.\u001b[39m__rname__ \u001b[38;5;241m=\u001b[39m rname\n",
      "File \u001b[0;32m/opt/homebrew/anaconda3/envs/ml-tutorials/lib/python3.12/functools.py:909\u001b[0m, in \u001b[0;36msingledispatch.<locals>.wrapper\u001b[0;34m(*args, **kw)\u001b[0m\n\u001b[1;32m    905\u001b[0m \u001b[38;5;28;01mif\u001b[39;00m \u001b[38;5;129;01mnot\u001b[39;00m args:\n\u001b[1;32m    906\u001b[0m     \u001b[38;5;28;01mraise\u001b[39;00m \u001b[38;5;167;01mTypeError\u001b[39;00m(\u001b[38;5;124mf\u001b[39m\u001b[38;5;124m'\u001b[39m\u001b[38;5;132;01m{\u001b[39;00mfuncname\u001b[38;5;132;01m}\u001b[39;00m\u001b[38;5;124m requires at least \u001b[39m\u001b[38;5;124m'\u001b[39m\n\u001b[1;32m    907\u001b[0m                     \u001b[38;5;124m'\u001b[39m\u001b[38;5;124m1 positional argument\u001b[39m\u001b[38;5;124m'\u001b[39m)\n\u001b[0;32m--> 909\u001b[0m \u001b[38;5;28;01mreturn\u001b[39;00m \u001b[43mdispatch\u001b[49m\u001b[43m(\u001b[49m\u001b[43margs\u001b[49m\u001b[43m[\u001b[49m\u001b[38;5;241;43m0\u001b[39;49m\u001b[43m]\u001b[49m\u001b[38;5;241;43m.\u001b[39;49m\u001b[38;5;18;43m__class__\u001b[39;49m\u001b[43m)\u001b[49m\u001b[43m(\u001b[49m\u001b[38;5;241;43m*\u001b[39;49m\u001b[43margs\u001b[49m\u001b[43m,\u001b[49m\u001b[43m \u001b[49m\u001b[38;5;241;43m*\u001b[39;49m\u001b[38;5;241;43m*\u001b[39;49m\u001b[43mkw\u001b[49m\u001b[43m)\u001b[49m\n",
      "File \u001b[0;32m/opt/homebrew/anaconda3/envs/ml-tutorials/lib/python3.12/site-packages/rpy2/robjects/conversion.py:384\u001b[0m, in \u001b[0;36m_raise_missingconverter\u001b[0;34m(obj)\u001b[0m\n\u001b[1;32m    377\u001b[0m \u001b[38;5;28;01mdef\u001b[39;00m \u001b[38;5;21m_raise_missingconverter\u001b[39m(obj):\n\u001b[1;32m    378\u001b[0m     _missingconverter_msg \u001b[38;5;241m=\u001b[39m \u001b[38;5;124m\"\"\"\u001b[39m\n\u001b[1;32m    379\u001b[0m \u001b[38;5;124m    Conversion rules for `rpy2.robjects` appear to be missing. Those\u001b[39m\n\u001b[1;32m    380\u001b[0m \u001b[38;5;124m    rules are in a Python `contextvars.ContextVar`. This could be caused\u001b[39m\n\u001b[1;32m    381\u001b[0m \u001b[38;5;124m    by multithreading code not passing context to the thread.\u001b[39m\n\u001b[1;32m    382\u001b[0m \u001b[38;5;124m    Check rpy2\u001b[39m\u001b[38;5;124m'\u001b[39m\u001b[38;5;124ms documentation about conversions.\u001b[39m\n\u001b[1;32m    383\u001b[0m \u001b[38;5;124m    \u001b[39m\u001b[38;5;124m\"\"\"\u001b[39m\n\u001b[0;32m--> 384\u001b[0m     \u001b[38;5;28;01mraise\u001b[39;00m \u001b[38;5;167;01mNotImplementedError\u001b[39;00m(_missingconverter_msg)\n",
      "\u001b[0;31mNotImplementedError\u001b[0m: \n    Conversion rules for `rpy2.robjects` appear to be missing. Those\n    rules are in a Python `contextvars.ContextVar`. This could be caused\n    by multithreading code not passing context to the thread.\n    Check rpy2's documentation about conversions.\n    "
     ]
    }
   ],
   "source": [
    "importr('base')\n"
   ]
  },
  {
   "cell_type": "code",
   "execution_count": 8,
   "metadata": {},
   "outputs": [
    {
     "ename": "NotImplementedError",
     "evalue": "\n    Conversion rules for `rpy2.robjects` appear to be missing. Those\n    rules are in a Python `contextvars.ContextVar`. This could be caused\n    by multithreading code not passing context to the thread.\n    Check rpy2's documentation about conversions.\n    ",
     "output_type": "error",
     "traceback": [
      "\u001b[0;31m---------------------------------------------------------------------------\u001b[0m",
      "\u001b[0;31mNotImplementedError\u001b[0m                       Traceback (most recent call last)",
      "Cell \u001b[0;32mIn[8], line 1\u001b[0m\n\u001b[0;32m----> 1\u001b[0m \u001b[43mrobjects\u001b[49m\u001b[38;5;241;43m.\u001b[39;49m\u001b[43mr\u001b[49m\u001b[43m[\u001b[49m\u001b[38;5;124;43m'\u001b[39;49m\u001b[38;5;124;43mpi\u001b[39;49m\u001b[38;5;124;43m'\u001b[39;49m\u001b[43m]\u001b[49m\n",
      "File \u001b[0;32m/opt/homebrew/anaconda3/envs/ml-tutorials/lib/python3.12/site-packages/rpy2/robjects/__init__.py:468\u001b[0m, in \u001b[0;36mR.__getitem__\u001b[0;34m(self, item)\u001b[0m\n\u001b[1;32m    466\u001b[0m \u001b[38;5;28;01mdef\u001b[39;00m \u001b[38;5;21m__getitem__\u001b[39m(\u001b[38;5;28mself\u001b[39m, item: \u001b[38;5;28mstr\u001b[39m) \u001b[38;5;241m-\u001b[39m\u001b[38;5;241m>\u001b[39m \u001b[38;5;28mobject\u001b[39m:\n\u001b[1;32m    467\u001b[0m     res \u001b[38;5;241m=\u001b[39m _globalenv\u001b[38;5;241m.\u001b[39mfind(item)\n\u001b[0;32m--> 468\u001b[0m     res \u001b[38;5;241m=\u001b[39m \u001b[43mconversion\u001b[49m\u001b[38;5;241;43m.\u001b[39;49m\u001b[43mget_conversion\u001b[49m\u001b[43m(\u001b[49m\u001b[43m)\u001b[49m\u001b[38;5;241;43m.\u001b[39;49m\u001b[43mrpy2py\u001b[49m\u001b[43m(\u001b[49m\u001b[43mres\u001b[49m\u001b[43m)\u001b[49m\n\u001b[1;32m    469\u001b[0m     \u001b[38;5;28;01mif\u001b[39;00m \u001b[38;5;28mhasattr\u001b[39m(res, \u001b[38;5;124m'\u001b[39m\u001b[38;5;124m__rname__\u001b[39m\u001b[38;5;124m'\u001b[39m):\n\u001b[1;32m    470\u001b[0m         res\u001b[38;5;241m.\u001b[39m__rname__ \u001b[38;5;241m=\u001b[39m item\n",
      "File \u001b[0;32m/opt/homebrew/anaconda3/envs/ml-tutorials/lib/python3.12/functools.py:909\u001b[0m, in \u001b[0;36msingledispatch.<locals>.wrapper\u001b[0;34m(*args, **kw)\u001b[0m\n\u001b[1;32m    905\u001b[0m \u001b[38;5;28;01mif\u001b[39;00m \u001b[38;5;129;01mnot\u001b[39;00m args:\n\u001b[1;32m    906\u001b[0m     \u001b[38;5;28;01mraise\u001b[39;00m \u001b[38;5;167;01mTypeError\u001b[39;00m(\u001b[38;5;124mf\u001b[39m\u001b[38;5;124m'\u001b[39m\u001b[38;5;132;01m{\u001b[39;00mfuncname\u001b[38;5;132;01m}\u001b[39;00m\u001b[38;5;124m requires at least \u001b[39m\u001b[38;5;124m'\u001b[39m\n\u001b[1;32m    907\u001b[0m                     \u001b[38;5;124m'\u001b[39m\u001b[38;5;124m1 positional argument\u001b[39m\u001b[38;5;124m'\u001b[39m)\n\u001b[0;32m--> 909\u001b[0m \u001b[38;5;28;01mreturn\u001b[39;00m \u001b[43mdispatch\u001b[49m\u001b[43m(\u001b[49m\u001b[43margs\u001b[49m\u001b[43m[\u001b[49m\u001b[38;5;241;43m0\u001b[39;49m\u001b[43m]\u001b[49m\u001b[38;5;241;43m.\u001b[39;49m\u001b[38;5;18;43m__class__\u001b[39;49m\u001b[43m)\u001b[49m\u001b[43m(\u001b[49m\u001b[38;5;241;43m*\u001b[39;49m\u001b[43margs\u001b[49m\u001b[43m,\u001b[49m\u001b[43m \u001b[49m\u001b[38;5;241;43m*\u001b[39;49m\u001b[38;5;241;43m*\u001b[39;49m\u001b[43mkw\u001b[49m\u001b[43m)\u001b[49m\n",
      "File \u001b[0;32m/opt/homebrew/anaconda3/envs/ml-tutorials/lib/python3.12/site-packages/rpy2/robjects/conversion.py:384\u001b[0m, in \u001b[0;36m_raise_missingconverter\u001b[0;34m(obj)\u001b[0m\n\u001b[1;32m    377\u001b[0m \u001b[38;5;28;01mdef\u001b[39;00m \u001b[38;5;21m_raise_missingconverter\u001b[39m(obj):\n\u001b[1;32m    378\u001b[0m     _missingconverter_msg \u001b[38;5;241m=\u001b[39m \u001b[38;5;124m\"\"\"\u001b[39m\n\u001b[1;32m    379\u001b[0m \u001b[38;5;124m    Conversion rules for `rpy2.robjects` appear to be missing. Those\u001b[39m\n\u001b[1;32m    380\u001b[0m \u001b[38;5;124m    rules are in a Python `contextvars.ContextVar`. This could be caused\u001b[39m\n\u001b[1;32m    381\u001b[0m \u001b[38;5;124m    by multithreading code not passing context to the thread.\u001b[39m\n\u001b[1;32m    382\u001b[0m \u001b[38;5;124m    Check rpy2\u001b[39m\u001b[38;5;124m'\u001b[39m\u001b[38;5;124ms documentation about conversions.\u001b[39m\n\u001b[1;32m    383\u001b[0m \u001b[38;5;124m    \u001b[39m\u001b[38;5;124m\"\"\"\u001b[39m\n\u001b[0;32m--> 384\u001b[0m     \u001b[38;5;28;01mraise\u001b[39;00m \u001b[38;5;167;01mNotImplementedError\u001b[39;00m(_missingconverter_msg)\n",
      "\u001b[0;31mNotImplementedError\u001b[0m: \n    Conversion rules for `rpy2.robjects` appear to be missing. Those\n    rules are in a Python `contextvars.ContextVar`. This could be caused\n    by multithreading code not passing context to the thread.\n    Check rpy2's documentation about conversions.\n    "
     ]
    }
   ],
   "source": [
    "robjects.r['pi']\n"
   ]
  },
  {
   "cell_type": "code",
   "execution_count": null,
   "metadata": {},
   "outputs": [],
   "source": []
  }
 ],
 "metadata": {
  "kernelspec": {
   "display_name": "ml-tutorials",
   "language": "python",
   "name": "python3"
  },
  "language_info": {
   "codemirror_mode": {
    "name": "ipython",
    "version": 3
   },
   "file_extension": ".py",
   "mimetype": "text/x-python",
   "name": "python",
   "nbconvert_exporter": "python",
   "pygments_lexer": "ipython3",
   "version": "3.12.2"
  }
 },
 "nbformat": 4,
 "nbformat_minor": 2
}
